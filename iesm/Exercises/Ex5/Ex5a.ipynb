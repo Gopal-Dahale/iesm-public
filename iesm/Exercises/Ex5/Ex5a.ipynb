{
 "cells": [
  {
   "cell_type": "markdown",
   "metadata": {},
   "source": [
    "# Density Functional Theory - Comparison with (Post) Hartree-Fock Methods\n",
    "\n",
    "<img src=\"density.png\" alt=\"drawing\" width=\"500\" align=\"center\">\n",
    "    \n",
    "**Fig.1** - STM image of the electron density of a self-assembled layer of benzene-dicarboxylic acid isomers at a liquid-solid interface. *J. Phys. Chem. B*, **2014**, 108, *13652*\n"
   ]
  },
  {
   "cell_type": "markdown",
   "metadata": {},
   "source": [
    "All methods discussed so far evaluate the energy of a system based on\n",
    "its wavefunction $\\Psi$; a purely mathematical object that lacks any\n",
    "direct physical interpretation. In the next two sets of exercises, you\n",
    "will explore a formalism that is based on a physical observable, called\n",
    "*Density Functional Theory* (DFT). Rather than linking observables to\n",
    "abstract wavefunctions, DFT relates any observable to a physical,\n",
    "measurable quantity, the electron density $\\rho$ (**Fig. 1**). \n",
    "\n",
    "In the next two sets of exercises, you will assess the performance of\n",
    "various state-of-the-art density functionals in the prediction of\n",
    "reaction enthalpies and geometric properties, and you will compare your\n",
    "results to both wavefunction theory and experimental data. The first\n",
    "exercise constitutes more of a practical introduction; you will be\n",
    "provided with more ample theoretical information on DFT in the following\n",
    "week. \n",
    "\n",
    "You can get an idea of how many different DFT functionals exist by checking how large is the amount of available functionals in Psi4 (https://psicode.org/psi4manual/master/dft_byfunctional.html).\n"
   ]
  },
  {
   "cell_type": "markdown",
   "metadata": {},
   "source": [
    "## Thermochemical Properties of an Aldol Reaction: Performance of DFT, HF and MP2\n",
    "\n",
    "\n",
    "The approximation in wavefunction based methods lies in the restriction\n",
    "and truncation of the expansion of $\\Psi$; the Hamiltonian is exact. In\n",
    "DFT, instead, the approximate quantity is incorporated into the\n",
    "Hamiltonian. This approximate term is called the *exchange-correlation\n",
    "functional*, and without further elaborating on methodological details\n",
    "(we leave this for the oncoming week), you will now explore the\n",
    "performance of various exchange-correlation functionals of differing\n",
    "complexity in the prediction of a reaction enthalpy. By doing this, you\n",
    "will also learn how to create chemical structures in Molden."
   ]
  },
  {
   "cell_type": "markdown",
   "metadata": {},
   "source": [
    "### Aldol Reaction of Acetone \n",
    "\n",
    "Consider an organic chemistry classic, the Aldol reaction between two\n",
    "molecules of acetone (*J. Phys. Chem. A*, **2009**, 113, *10376*).\n",
    "\n",
    "\n",
    "<img src=\"aldol.png\" alt=\"drawing\" width=\"700\" align=\"center\">\n",
    "    \n",
    "\n",
    "The value for the reaction enthalpy at 0 K, $\\Delta H_{0K}$, is found to\n",
    "be -10.5 kcal mol$^{-1}$ based on experimental data. The reaction\n",
    "enthalpy at 0 K is simply given by the differences in potential energy\n",
    "between reactants and products."
   ]
  },
  {
   "cell_type": "markdown",
   "metadata": {},
   "source": [
    "### Creating Molecular Structures\n",
    "\n",
    "For larger molecules, the creation of an approximate xyz file that can\n",
    "be used as the molecular input coordinates is impossible. In these\n",
    "cases, one may refer to the drawing ability of designed softwares. \n",
    "Many different programs can be used for this task, in particular a web-based open-source option is\n",
    "*MolView* (https://molview.org/).\n",
    "\n",
    "\n",
    "First, we may want to create coordinates for acetone. Open MolView, you will find as example the 2D sketch of a molecule and the respective 3D structure.  Delete the example and sketch the acetone molecule: you can add or modify specific atoms using the right toolbar, and draw bonds between atoms using the left tooldbar. More information are present under *MolView*>*Help*.\n",
    "\n",
    " Once you’ve drawn the acetone molecule, you can click the *2D to 3D button* to convert the molecule into a 3D model.  \n",
    " \n",
    " <img src=\"MolView.png\" alt=\"drawing\" width=\"900\" align=\"center\">\n",
    "\n",
    "\n",
    "\n",
    "The molecule is now completely constructed and the coordinates\n",
    "are ready to be saved. In the *EXPORT* section of *Tools*, click on *MOL file*, and specify a filename of your choice. The coordinates are\n",
    "now saved to an mol file, which is a common format for moelcular structures. \\\n",
    "Do not close MolView at this point: you are now ready to create the product structure.  Modify the acetone structure to obtain the product structure, and save the coordinates to a new mol file."
   ]
  },
  {
   "cell_type": "markdown",
   "metadata": {},
   "source": [
    "```{admonition} Question 1\n",
    ":class: exercise \n",
    "Include a screenshot of you product structure in the report. \n",
    "```"
   ]
  },
  {
   "cell_type": "markdown",
   "metadata": {},
   "source": [
    "As you know from previous exercise sessions, moelcular structures in Psi4 need to be in xyz or Z-matrix format.\n",
    "The xyz coordinates are contained in the two mol files that you have created. You can have a look at those files using the command `less`"
   ]
  },
  {
   "cell_type": "code",
   "execution_count": 1,
   "metadata": {},
   "outputs": [
    {
     "name": "stdout",
     "output_type": "stream",
     "text": [
      "180[?47h\u001b[?1h\u001b=\n",
      "  -OEChem-07122111243D\n",
      "\n",
      " 10  9  0     0  0  0  0  0  0999 V2000\n",
      "    0.0003   -1.3171   -0.0002 O   0  0  0  0  0  0  0  0  0  0  0  0\n",
      "    0.0000   -0.0872    0.0006 C   0  0  0  0  0  0  0  0  0  0  0  0\n",
      "    1.2810    0.7024   -0.0002 C   0  0  0  0  0  0  0  0  0  0  0  0\n",
      "   -1.2813    0.7019   -0.0002 C   0  0  0  0  0  0  0  0  0  0  0  0\n",
      "    1.3279    1.3235   -0.8980 H   0  0  0  0  0  0  0  0  0  0  0  0\n",
      "    1.3260    1.3282    0.8945 H   0  0  0  0  0  0  0  0  0  0  0  0\n",
      "    2.1351    0.0196    0.0027 H   0  0  0  0  0  0  0  0  0  0  0  0\n",
      "   -2.1352    0.0187    0.0027 H   0  0  0  0  0  0  0  0  0  0  0  0\n",
      "   -1.3284    1.3230   -0.8980 H   0  0  0  0  0  0  0  0  0  0  0  0\n",
      "   -1.3266    1.3278    0.8945 H   0  0  0  0  0  0  0  0  0  0  0  0\n",
      "  1  2  2  0  0  0  0\n",
      "  2  3  1  0  0  0  0\n",
      "  2  4  1  0  0  0  0\n",
      "  3  5  1  0  0  0  0\n",
      "  3  6  1  0  0  0  0\n",
      "  3  7  1  0  0  0  0\n",
      "  4  8  1  0  0  0  0\n",
      "  4  9  1  0  0  0  0\n",
      "  4 10  1  0  0  0  0\n",
      "\u001b[K:\u001b[KView_acetone.mol\u001b[m\u001b[K\u0007"
     ]
    }
   ],
   "source": [
    "!less MolView_acetone.mol"
   ]
  },
  {
   "cell_type": "markdown",
   "metadata": {},
   "source": [
    "The information in the mol file can be converted to the xyz desired format using terminal commands. One possibility is using a combination of `grep` and `sed` commands:"
   ]
  },
  {
   "cell_type": "code",
   "execution_count": 3,
   "metadata": {},
   "outputs": [
    {
     "name": "stdout",
     "output_type": "stream",
     "text": [
      "C    0.0000   -0.0872    0.0006 \r\n",
      "C    1.2810    0.7024   -0.0002 \r\n",
      "C   -1.2813    0.7019   -0.0002 \r\n"
     ]
    }
   ],
   "source": [
    "!grep 'C ' MolView_acetone.mol | sed 's/C   0  0  0  0  0  0  0  0  0  0  0  0//' | sed /./s/^/C/ "
   ]
  },
  {
   "cell_type": "markdown",
   "metadata": {},
   "source": [
    "In this command line `grep` searches for a specific string in the mol file (the C element in this case), then the first `sed` substitues the string 'C   0  0  0  0  0  0  0  0  0  0  0  0' with a blank space, and the last `sed` adds a C at the beginning of each line.\n",
    "\n",
    "The full xyz matrices of the molecules can be obtained by repeating the same command for all the elements present (C,O, and H in this case):"
   ]
  },
  {
   "cell_type": "code",
   "execution_count": 4,
   "metadata": {},
   "outputs": [
    {
     "name": "stdout",
     "output_type": "stream",
     "text": [
      "C    0.0000   -0.0872    0.0006 \n",
      "C    1.2810    0.7024   -0.0002 \n",
      "C   -1.2813    0.7019   -0.0002 \n",
      "O    0.0003   -1.3171   -0.0002 \n",
      "H    1.3279    1.3235   -0.8980 \n",
      "H    1.3260    1.3282    0.8945 \n",
      "H    2.1351    0.0196    0.0027 \n",
      "H   -2.1352    0.0187    0.0027 \n",
      "H   -1.3284    1.3230   -0.8980 \n",
      "H   -1.3266    1.3278    0.8945 \n"
     ]
    }
   ],
   "source": [
    "!grep 'C ' MolView_acetone.mol | sed 's/C   0  0  0  0  0  0  0  0  0  0  0  0//' | sed /./s/^/C/ \n",
    "!grep 'O ' MolView_acetone.mol | sed 's/O   0  0  0  0  0  0  0  0  0  0  0  0//' | sed /./s/^/O/\n",
    "!grep 'H ' MolView_acetone.mol | sed 's/H   0  0  0  0  0  0  0  0  0  0  0  0//' | sed /./s/^/H/"
   ]
  },
  {
   "cell_type": "code",
   "execution_count": 5,
   "metadata": {},
   "outputs": [
    {
     "name": "stdout",
     "output_type": "stream",
     "text": [
      "C   -1.1209   -0.0654    0.0135 \n",
      "C    0.1860   -0.7649   -0.3989 \n",
      "C   -2.3102   -0.9572   -0.3599 \n",
      "C   -1.1749    0.2519    1.5101 \n",
      "C    1.4675   -0.0003   -0.0928 \n",
      "C    2.7016   -0.8365    0.1282 \n",
      "O   -1.2761    1.1447   -0.7290 \n",
      "O    1.5269    1.2278   -0.0711 \n",
      "H    0.2480   -1.7371    0.1054 \n",
      "H    0.1941   -0.9451   -1.4811 \n",
      "H   -2.2756   -1.9174    0.1655 \n",
      "H   -3.2614   -0.4676   -0.1205 \n",
      "H   -2.3278   -1.1526   -1.4385 \n",
      "H   -1.0409   -0.6496    2.1168 \n",
      "H   -0.4062    0.9789    1.7918 \n",
      "H   -2.1346    0.7085    1.7787 \n",
      "H   -2.1016    1.5721   -0.4433 \n",
      "H    3.5579   -0.1857    0.3261 \n",
      "H    2.9064   -1.4298   -0.7663 \n",
      "H    2.5516   -1.4909    0.9905 \n"
     ]
    }
   ],
   "source": [
    "!grep 'C ' MolView_product.mol | sed 's/C   0  0  0  0  0  0  0  0  0  0  0  0//' | sed /./s/^/C/ \n",
    "!grep 'O ' MolView_product.mol | sed 's/O   0  0  0  0  0  0  0  0  0  0  0  0//' | sed /./s/^/O/\n",
    "!grep 'H ' MolView_product.mol | sed 's/H   0  0  0  0  0  0  0  0  0  0  0  0//' | sed /./s/^/H/"
   ]
  },
  {
   "cell_type": "markdown",
   "metadata": {},
   "source": [
    "Now we can initialize the environment to use Psi4, and then create the geometry files for the molecules copy-pasting the xyz matrices extracted above"
   ]
  },
  {
   "cell_type": "code",
   "execution_count": 6,
   "metadata": {},
   "outputs": [],
   "source": [
    "import psi4\n",
    "import pandas as pd\n",
    "import numpy as np\n",
    "import matplotlib.pyplot as plt\n",
    "\n",
    "plt.style.use(['seaborn-poster', 'seaborn-ticks'])\n",
    "\n",
    "psi4.set_memory('2 GB')\n",
    "psi4.set_num_threads(4)"
   ]
  },
  {
   "cell_type": "code",
   "execution_count": 7,
   "metadata": {},
   "outputs": [],
   "source": [
    "# geometries from MolView (no chelation!)\n",
    "acetone = psi4.geometry(\"\"\"\n",
    "0 1\n",
    "C    0.0000   -0.0872    0.0006 \n",
    "C    1.2810    0.7024   -0.0002 \n",
    "C   -1.2813    0.7019   -0.0002 \n",
    "O    0.0003   -1.3171   -0.0002 \n",
    "H    1.3279    1.3235   -0.8980 \n",
    "H    1.3260    1.3282    0.8945 \n",
    "H    2.1351    0.0196    0.0027 \n",
    "H   -2.1352    0.0187    0.0027 \n",
    "H   -1.3284    1.3230   -0.8980 \n",
    "H   -1.3266    1.3278    0.8945 \n",
    "\"\"\")\n",
    "\n",
    "product = psi4.geometry(\"\"\"\n",
    "0 1\n",
    "C   -1.1209   -0.0654    0.0135 \n",
    "C    0.1860   -0.7649   -0.3989 \n",
    "C   -2.3102   -0.9572   -0.3599 \n",
    "C   -1.1749    0.2519    1.5101 \n",
    "C    1.4675   -0.0003   -0.0928 \n",
    "C    2.7016   -0.8365    0.1282 \n",
    "O   -1.2761    1.1447   -0.7290 \n",
    "O    1.5269    1.2278   -0.0711 \n",
    "H    0.2480   -1.7371    0.1054 \n",
    "H    0.1941   -0.9451   -1.4811 \n",
    "H   -2.2756   -1.9174    0.1655 \n",
    "H   -3.2614   -0.4676   -0.1205 \n",
    "H   -2.3278   -1.1526   -1.4385 \n",
    "H   -1.0409   -0.6496    2.1168 \n",
    "H   -0.4062    0.9789    1.7918 \n",
    "H   -2.1346    0.7085    1.7787 \n",
    "H   -2.1016    1.5721   -0.4433 \n",
    "H    3.5579   -0.1857    0.3261 \n",
    "H    2.9064   -1.4298   -0.7663 \n",
    "H    2.5516   -1.4909    0.9905 \n",
    "\"\"\")\n"
   ]
  },
  {
   "cell_type": "code",
   "execution_count": 8,
   "metadata": {},
   "outputs": [],
   "source": [
    "# optimized geometries from Avogadro, correctly chelating\n",
    "acetone2 = psi4.geometry(\"\"\"\n",
    "0 1\n",
    "C         -6.54779        1.98031       -0.28235\n",
    "C         -5.25182        2.74498       -0.27593\n",
    "H         -7.36602        2.64372       -0.57593\n",
    "H         -6.74876        1.59177        0.71900\n",
    "H         -6.48488        1.15894       -1.00039\n",
    "C         -4.01371        1.97546        0.09718\n",
    "H         -4.10004        1.62074        1.12709\n",
    "H         -3.13762        2.62492        0.01682\n",
    "H         -3.88802        1.13010       -0.58386\n",
    "O         -5.20804        3.94272       -0.55277\n",
    "\"\"\")\n",
    "\n",
    "product2 = psi4.geometry(\"\"\"\n",
    "0 1\n",
    "C         -6.61900        1.85254       -0.25898\n",
    "C         -5.38761        2.72144       -0.27794\n",
    "H         -7.49359        2.44631       -0.53897\n",
    "H         -6.76979        1.45343        0.74697\n",
    "H         -6.50347        1.03620       -0.97616\n",
    "C         -4.07655        2.03701        0.06308\n",
    "H         -4.21565        1.57342        1.04839\n",
    "C         -2.78102        2.89168        0.06469\n",
    "H         -3.97046        1.20400       -0.64376\n",
    "O         -5.46172        3.91786       -0.55459\n",
    "C         -2.15689        2.89339        1.46552\n",
    "O         -2.93702        4.26204       -0.30010\n",
    "C         -1.77194        2.30912       -0.93255\n",
    "H         -3.88373        4.46376       -0.45427\n",
    "H         -2.84008        3.34898        2.19155\n",
    "H         -1.23851        3.49172        1.48715\n",
    "H         -1.91555        1.87997        1.80355\n",
    "H         -1.51845        1.27069       -0.69524\n",
    "H         -0.84665        2.89698       -0.94547\n",
    "H         -2.17444        2.34552       -1.95166\n",
    "\"\"\")\n"
   ]
  },
  {
   "cell_type": "code",
   "execution_count": 9,
   "metadata": {},
   "outputs": [],
   "source": [
    "#Geometries from last year solutions\n",
    "acetone3 = psi4.geometry(\"\"\"\n",
    "0 1\n",
    " C     0.000000     0.000000     0.000000\n",
    " H     0.000000     0.000000     1.089000\n",
    " C     1.414215     0.000000    -0.499995\n",
    " H    -0.513360    -0.889165    -0.363000\n",
    " H    -0.513360     0.889165    -0.363000\n",
    " O     1.637150     0.000000    -1.699453\n",
    " C     2.554331     0.000000     0.474755\n",
    " H     2.169870     0.000000     1.473299\n",
    " H     3.153203    -0.873651     0.323143\n",
    " H     3.153203     0.873651     0.323143\n",
    "\"\"\")\n",
    "\n",
    "product3 = psi4.geometry(\"\"\"\n",
    "0 1\n",
    " C     0.000000     0.000000     0.000000\n",
    " H     0.000000     0.000000     1.089000\n",
    " C     1.414215     0.000000    -0.499995\n",
    " H    -0.513360    -0.889165    -0.363000\n",
    " H    -0.513360     0.889165    -0.363000\n",
    " O     1.637150     0.000000    -1.699453\n",
    " C     2.554331     0.000000     0.474755\n",
    " C     3.853372     0.000000    -0.275240\n",
    " H     2.497648     0.873651     1.089914\n",
    " H     2.497648    -0.873651     1.089914\n",
    " O     3.601211     0.000000    -1.632007\n",
    " C     4.639937     1.224745     0.087135\n",
    " C     4.639937    -1.224745     0.087135\n",
    " H     2.665722     0.000000    -1.779214\n",
    " H     5.566586    -1.224745    -0.447861\n",
    " H     4.835453    -1.224745     1.139121\n",
    " H     4.078854    -2.098396    -0.171359\n",
    " H     5.566586     1.224745    -0.447861\n",
    " H     4.078854     2.098396    -0.171359\n",
    " H     4.835453     1.224745     1.139121\n",
    "\"\"\")\n"
   ]
  },
  {
   "cell_type": "markdown",
   "metadata": {},
   "source": [
    "### Energy Calculations\n",
    "\n",
    "The goal of this exercise is to compare different levels of theory. \n",
    "\n",
    "\n",
    "| Method          | $E_{reactant}$ [a.u.]| $E_{product}$ [a.u.]| $\\Delta H_{0K}$ [kcal mol$^{-1}$]|\n",
    "|:---:            |:---:                 |:---:                |:---:                             |\n",
    "|||                                       **Experimental:**                                      ||\n",
    "|                 |n/a                   |n/a                  |-10.5                             |\n",
    "|||                                       **$\\Psi$ based:**                                      ||\n",
    "|HF               |                      |                     |                                  |\n",
    "|MP2              |                      |                     |                                  |\n",
    "|||                                      **$\\rho$ based:**                                       ||\n",
    "|BLYP             |                      |                     |                                  |\n",
    "|mPW1PW91         |                      |                     |                                  |\n",
    "|B97-2            |                      |                     |                                  |\n",
    "|PBEPBE           |                      |                     |                                  |\n",
    "|TPSSTPSS         |                      |                     |                                  |\n",
    "|M06-L            |                      |                     |                                  |\n",
    "|M06-2X           |                      |                     |                                  |\n"
   ]
  },
  {
   "cell_type": "code",
   "execution_count": 11,
   "metadata": {},
   "outputs": [
    {
     "name": "stdout",
     "output_type": "stream",
     "text": [
      "Optimizer: Optimization complete!\n",
      "Optimizer: Optimization complete!\n",
      "hf -191.97705754110342 -383.95388694600496 0.1437258071865699\n",
      "Optimizer: Optimization complete!\n",
      "Optimizer: Optimization complete!\n",
      "mp2 -192.6015522200352 -385.22135029042255 -11.494885721868968\n",
      "Optimizer: Optimization complete!\n",
      "Optimizer: Optimization complete!\n",
      "blyp -193.09293811446156 -386.17905791008104 4.29554087050974\n",
      "Optimizer: Optimization complete!\n",
      "Optimizer: Optimization complete!\n",
      "mpw1pw -193.1207206714736 -386.2508341483332 -5.917467393161928\n",
      "Optimizer: Optimization complete!\n",
      "Optimizer: Optimization complete!\n",
      "b97-2 -193.10203538435843 -386.2074379957608 -2.121353037690028\n",
      "Optimizer: Optimization complete!\n",
      "Optimizer: Optimization complete!\n",
      "pbe -192.9271056115124 -385.86042171539395 -3.912610192581951\n",
      "Optimizer: Optimization complete!\n",
      "Optimizer: Optimization complete!\n",
      "tpss -193.19805290350354 -386.3959656074537 0.08832571861489669\n",
      "Optimizer: Optimization complete!\n",
      "Optimizer: Optimization complete!\n",
      "m06-l -193.14130225716286 -386.28927417394516 -4.201885560242999\n",
      "Optimizer: Optimization complete!\n",
      "Optimizer: Optimization complete!\n",
      "m06-2x -193.07184386880525 -386.1628547669772 -12.075228501029187\n"
     ]
    }
   ],
   "source": [
    "methods = ['hf', 'mp2', 'blyp', 'mpw1pw', 'b97-2', 'pbe', 'tpss', 'm06-l', 'm06-2x']\n",
    "psi4.core.set_output_file(f'opt_output.log', False) # single log file\n",
    "#not chelating\n",
    "for m in methods:\n",
    "    method = m+'/6-31+G**'\n",
    "    E_react = psi4.optimize(method, molecule=acetone)\n",
    "    E_prod = psi4.optimize(method, molecule=product)\n",
    "    print(m, E_react, E_prod, (E_prod-2*E_react)*630)"
   ]
  },
  {
   "cell_type": "code",
   "execution_count": 12,
   "metadata": {},
   "outputs": [
    {
     "name": "stdout",
     "output_type": "stream",
     "text": [
      "Optimizer: Optimization complete!\n",
      "Optimizer: Optimization complete!\n",
      "hf -191.9770564129717 -383.957678866855 -2.2466057743127976\n",
      "Optimizer: Optimization complete!\n",
      "Optimizer: Optimization complete!\n",
      "mp2 -192.60155234268217 -385.22437745756196 -13.401846484500197\n",
      "Optimizer: Optimization complete!\n",
      "Optimizer: Optimization complete!\n",
      "blyp -193.09293805970583 -386.18307346070424 1.7656749856769238\n",
      "Optimizer: Optimization complete!\n",
      "Optimizer: Optimization complete!\n",
      "mpw1pw -193.12072054468783 -386.25556045539133 -8.895200589876708\n",
      "Optimizer: Optimization complete!\n",
      "Optimizer: Optimization complete!\n",
      "b97-2 -193.10203539348984 -386.2117416946631 -4.8326718405451174\n",
      "Optimizer: Optimization complete!\n",
      "Optimizer: Optimization complete!\n",
      "pbe -192.92710575030105 -385.8651909901082 -6.917078388842128\n",
      "Optimizer: Optimization complete!\n",
      "Optimizer: Optimization complete!\n",
      "tpss -193.19805319318107 -386.40046296929756 -2.744647249320451\n",
      "Optimizer: Optimization complete!\n",
      "Optimizer: Optimization complete!\n",
      "m06-l -193.1413021782863 -386.2936922524816 -6.9853744226611525\n",
      "Optimizer: Optimization complete!\n",
      "Optimizer: Optimization complete!\n",
      "m06-2x -193.07184376683415 -386.1667929730029 -14.556426780789025\n"
     ]
    }
   ],
   "source": [
    "methods = ['hf', 'mp2', 'blyp', 'mpw1pw', 'b97-2', 'pbe', 'tpss', 'm06-l', 'm06-2x']\n",
    "psi4.core.set_output_file(f'opt_output.log', False) # single log file\n",
    "#not chelating\n",
    "for m in methods:\n",
    "    method = m+'/6-31+G**'\n",
    "    E_react = psi4.optimize(method, molecule=acetone2)\n",
    "    E_prod = psi4.optimize(method, molecule=product2)\n",
    "    print(m, E_react, E_prod, (E_prod-2*E_react)*630)"
   ]
  },
  {
   "cell_type": "code",
   "execution_count": 14,
   "metadata": {},
   "outputs": [
    {
     "name": "stdout",
     "output_type": "stream",
     "text": [
      "Optimizer: Optimization complete!\n",
      "Optimizer: Optimization complete!\n",
      "hf -191.97377630042365 -383.9449393933937 1.6463206957541843\n",
      "Optimizer: Optimization complete!\n",
      "Optimizer: Optimization complete!\n",
      "mp2 -192.5983179094612 -385.2114244710902 -9.316850865710649\n",
      "Optimizer: Optimization complete!\n",
      "Optimizer: Optimization complete!\n",
      "blyp -193.09025716379577 -386.17366727609226 4.31364244454528\n",
      "Optimizer: Optimization complete!\n",
      "Optimizer: Optimization complete!\n",
      "mpw1pw -193.1178307719839 -386.24521046509943 -6.015820312923665\n",
      "Optimizer: Optimization complete!\n",
      "Optimizer: Optimization complete!\n",
      "b97-2 -193.09921234202434 -386.20138706126414 -1.8662976457358127\n",
      "Optimizer: Optimization complete!\n",
      "Optimizer: Optimization complete!\n",
      "pbe -192.92439896576838 -385.85563986826537 -4.310420139030384\n",
      "Optimizer: Optimization complete!\n",
      "Optimizer: Optimization complete!\n",
      "tpss -193.19532883538926 -386.3908960597456 -0.15018504926729292\n",
      "Optimizer: Optimization complete!\n",
      "Optimizer: Optimization complete!\n",
      "m06-l -193.13849332837137 -386.28165262247865 -2.939558413623331\n",
      "Optimizer: Optimization complete!\n",
      "Optimizer: Optimization complete!\n",
      "m06-2x -193.0687005493916 -386.15409306535776 -10.515938941978789\n"
     ]
    }
   ],
   "source": [
    "methods = ['hf', 'mp2', 'blyp', 'mpw1pw', 'b97-2', 'pbe', 'tpss', 'm06-l', 'm06-2x']\n",
    "psi4.core.set_output_file(f'opt_output.log', False) # single log file\n",
    "#not chelating\n",
    "for m in methods:\n",
    "    method = m+'/6-31+G**'\n",
    "    E_react = psi4.optimize(method, molecule=acetone3)\n",
    "    E_prod = psi4.optimize(method, molecule=product3)\n",
    "    print(m, E_react, E_prod, (E_prod-2*E_react)*630)"
   ]
  },
  {
   "cell_type": "markdown",
   "metadata": {},
   "source": [
    "```{admonition} Question 2\n",
    ":class: exercise \n",
    "Compute the energy of reactants and products and calculate the reaction enthalpy at 0 K, $\\Delta H_{0K}$, filling the table above.\n",
    "```\n",
    "\n",
    "```{admonition} Question 3\n",
    ":class: exercise \n",
    "What kind of basis set did we use? On which atoms will polarisation and diffuse functions be included?\n",
    "```\n",
    "\n",
    "```{admonition} Question 4\n",
    ":class: exercise \n",
    "Comment on the performance of the wavefunction based methods and DFT\n",
    "    for this reaction. Can you imagine why some DFT methods perform\n",
    "    better than others? How does DFT compare to MP2 and HF? Would you\n",
    "    expect the exchange-correlation functionals to give similar errors\n",
    "    in different systems?\n",
    "```\n",
    "\n",
    "```{admonition} Question 5\n",
    ":class: exercise \n",
    "An often cited target for the development of exchange-correlation\n",
    "    functionals is an error below *chemical accuracy*, *i.e.* within 1\n",
    "    kcal mol $^{-1}$ of the accurate result. A coupled-cluster based\n",
    "    scheme called CBS-QB3 predicted $\\Delta H_{0K} = -9.2$ kcal\n",
    "    mol$^{-1}$ for this reaction. In light of this, explain the accuracy\n",
    "    of the results that you obtained.\n",
    "```\n",
    "\n",
    "```{admonition} Question 6\n",
    ":class: exercise \n",
    "Why is it important to construct the starting material and the\n",
    "    product in a specific conformation, although one is carrying out a\n",
    "    geometry optimisation for both species?\n",
    "```"
   ]
  },
  {
   "cell_type": "markdown",
   "metadata": {},
   "source": [
    "# Old verison of ex5a\n",
    "\n",
    "### Creating Molecules in Molden \n",
    "\n",
    "For larger molecules, the creation of an approximate xyz file that can\n",
    "be used as the molecular input coordinates is impossible. In these\n",
    "cases, one may refer to the drawing ability of Molden. First, we may\n",
    "want to create coordinates for acetone. Run Molden without a file to\n",
    "read:"
   ]
  },
  {
   "cell_type": "code",
   "execution_count": 3,
   "metadata": {},
   "outputs": [
    {
     "name": "stdout",
     "output_type": "stream",
     "text": [
      "/bin/bash: molden: command not found\r\n"
     ]
    }
   ],
   "source": [
    "! molden"
   ]
  },
  {
   "cell_type": "markdown",
   "metadata": {},
   "source": [
    "and click on `ZMAT Editor` (it is advisable to do this in the\n",
    "`Ball & Stick` darwing mode). Then, click on\n",
    "`Substitute atom by Fragment` and select `CH4`. The screen will now show\n",
    "a methane molecule, starting from which you may create your target\n",
    "species. Click on one of the hydrogens, such that it is marked by a red\n",
    "ball. By selecting `Substitute atom by Fragment` again, you may now\n",
    "substitute this atom by a `-HC=O` carbonyl group. Click on the new\n",
    "hydrogen atom of the carbonyl group and substitute it by a methyl group\n",
    "`-CH3`. The molecule is now completely constructed and the coordinates\n",
    "are ready to be saved. In the main *Molden Control*, click on `Write`,\n",
    "select `xyz`, and specify a filename of your choice. The coordinates are\n",
    "now saved to an xyz file, which is a common format to exchange molecules\n",
    "between different programs. Do not close Molden at this point.\\\n",
    "You are now ready to create the product structure. As you wish to\n",
    "calculate the structure as given in the reaction mechanism, you must be\n",
    "careful not to randomly replace atoms, but to adhere to the desired\n",
    "geometry (it turns out that the product conformation you are about to\n",
    "construct is the minimum energy conformation). As we wish the hydroxyl\n",
    "group of the product to be hydrogen-bonding to the carbonyl group, we\n",
    "first have to rotate one of the methyl groups so that its hydrogen is in\n",
    "plane with the carbonyl group. It is easiest to do this by cleverly\n",
    "choosing a hydrogen atom. It may be more convenient to do the following\n",
    "for the methyl group you added last. By clicking on one of the\n",
    "hydrogens, it will be highlighted in the Z-matrix. If you click on the\n",
    "dihedral angle instead of the element symbol in the Z-matrix editor, you\n",
    "will see to which atom(s) the current selection is connected, as\n",
    "illustrated in figure 2.\n",
    "\n",
    "![Visualising connectivies in the Z-matrix\n",
    "editor.](molden.png \"fig:\")\\\n",
    "Â \\\n",
    "\n",
    "\\\n",
    "Probably, two of the three hydrogens will be specified by a dihedral\n",
    "with respect to one hydrogen of the same methyl group, the carbon atom\n",
    "of the methyl group, and the neighbouring carbon. We do not want to\n",
    "change any of these parameters, as they internally fix the structure of\n",
    "the methyl group, and we simply want to rotate the methyl group without\n",
    "changing its internal structure. Find out which of the hydrogen\n",
    "dihedrals is given with respect to the oxygen of the carbonyl group.\n",
    "Click on this dihedral, delete the current value of 180$^\\circ$, and\n",
    "replace it by a value of 0$^\\circ$. This will cause the methyl group to\n",
    "rotate. You may now select the same hydrogen again, and substitute it by\n",
    "an other methyl group. The carbon atom of this methyl group will now be\n",
    "in plane with the carbonyl group. Again, the methyl group will probably\n",
    "need to be rotated such that the final hydroxyl group that you will\n",
    "construct lies in plane as well. Proceed as before: Select the hydrogen\n",
    "of the methyl group that determines the rotation of the whole group,\n",
    "*i.e.* the one which has a dihedral that is specified with respect to\n",
    "the carbonyl C (again, click on the value of the dihedral to see which\n",
    "atoms are involved). Change this dihedral angle to 0$^\\circ$ as well,\n",
    "such that the desired atoms are now all in plane. Then, you may\n",
    "substitute the in-plane hydrogen by a hydroxyl group. This hydroxyl\n",
    "group should be hydrogen bonding to the carbonyl. You will thus have to\n",
    "change the value of the dihedral that specifies the O-H bond. If you\n",
    "click on the dihedral, you will see that it is defined in terms of all\n",
    "the neighbouring carbons. Change the value from 180$^\\circ$ to 0$^\\circ$\n",
    "again, and you will end up with the desired chelating structure. In the\n",
    "end, all that is left to do is to substitute the remaining hydrogen\n",
    "atoms with one methyl group each. Then, save the coordinates of your\n",
    "product structure to a new xyz file."
   ]
  },
  {
   "cell_type": "markdown",
   "metadata": {},
   "source": [
    "1.  Take a screenshot of your product structure and enclose it in your\n",
    "    report.\n",
    "\n",
    "Copy your xyz files to `.com` files with the same name, then open them\n",
    "in vi. You will see that an xyz file has a very simple structure, namely\n",
    "a number that specifies the number of atoms, a blank line (which may be\n",
    "used as a comment line), followed by the coordinates in xyz format.\n",
    "Delete the first two lines of the `.com` file and provide the additional\n",
    "information needed for a Gaussian input file based on the existing\n",
    "coordinates. As a reminder, the format for a Gaussian input file is:\n",
    "\n",
    "    %NProcShared=2\n",
    "    %Mem=1GB\n",
    "    %Chk=CHECKPOINTNAME\n",
    "    #P METHOD/BASIS_SET Opt\n",
    "\n",
    "    COMMENT\n",
    "\n",
    "    CHARGE MULTIPLICITY\n",
    "    LIST OF XYZ COORDINATES\n",
    "\n",
    "Of course, there must be a blank line at the end. Because the following\n",
    "calculations will take some considerable time, we will split the work\n",
    "among students, each one of you optimising the energy at different\n",
    "levels of theory.\n",
    "\n",
    "2.  You have been assigned to one or two level(s) of theory in the table\n",
    "    below. Create the corresponding Gaussian input files using the\n",
    "    6-31+G(d,p) basis.\n",
    "\n",
    "    For MP2 calculations, you should start from a HF geometry and the\n",
    "    Checkpoint file using `%OldChk=`, indicating `Guess=Read` as well as\n",
    "    `Geom=Checkpoint` in the route section (cf. exercise of last week).\n",
    "\n",
    "    Submit your jobs to Gaussian one at a time, then complete the\n",
    "    following table with the information from your fellow students that\n",
    "    you can all share on the Moodle webpage. Please try to communicate\n",
    "    your values one day before the submission to let others copy the\n",
    "    answers in their reports.\n",
    "\n",
    "      Method             $E_{reactant}$ \\[a.u.\\]   $E_{product}$ \\[a.u.\\]   $\\Delta H_{0K}$ \\[kcal mol$^{-1}$\\]\n",
    "      ----------------- ------------------------- ------------------------ -------------------------------------\n",
    "      Exp.                         n/a                      n/a                            -10.5\n",
    "      *$\\Psi$ based*:                                                      \n",
    "      HF                         Quentin                  Heorhiy          \n",
    "      MP2                        Quentin                  Heorhiy          \n",
    "      *$\\rho$ based*:                                                      \n",
    "      BLYP                        Artur                    Sergei          \n",
    "      mPW1PW91                   Sergei                    Artur           \n",
    "      B97-2                     Patricia                    Amin           \n",
    "      PBEPBE                      Amin                    Patricia         \n",
    "      TPSSTPSS                   Louise                  Alexandre         \n",
    "      M06-L                     Alexandre                  Louise          \n",
    "      M06-2X                     Damien                     Jann           \n",
    "\n",
    "3.  What kind of basis set did you use? On which atoms will polarisation\n",
    "    and diffuse functions be included?\n",
    "\n",
    "4.  Comment on the performance of the wavefunction based methods and DFT\n",
    "    for this reaction. Can you imagine why some DFT methods perform\n",
    "    better than others? How does DFT compare to MP2 and HF? Would you\n",
    "    expect the exchange-correlation functionals to give similar errors\n",
    "    in different systems?\n",
    "\n",
    "5.  An often cited target for the development of exchange-correlation\n",
    "    functionals is an error below *chemical accuracy*, *i.e.* within 1\n",
    "    kcal mol $^{-1}$ of the accurate result. A coupled-cluster based\n",
    "    scheme called CBS-QB3 predicted $\\Delta H_{0K} = -9.2$ kcal\n",
    "    mol$^{-1}$ for this reaction. In light of this, explain the accuracy\n",
    "    of the results that you obtained.\n",
    "\n",
    "6.  Why is it important to construct the starting material and the\n",
    "    product in a specific conformation, although one is carrying out a\n",
    "    geometry optimisation for both species?"
   ]
  },
  {
   "cell_type": "markdown",
   "metadata": {},
   "source": [
    "# Ex 5b, psi4 error!"
   ]
  },
  {
   "cell_type": "markdown",
   "metadata": {},
   "source": [
    "# Density Functional Theory 2 \n",
    "\n",
    "In this set of exercises, you will assess the performance of various\n",
    "state-of-the-art density functionals in the prediction of geometric\n",
    "properties, and you will again compare your results to both wavefunction\n",
    "theory and experimental data. The second part of this exercise script\n",
    "constitutes a brief *résumé* of DFT and a description of the various\n",
    "*exchange-correlation* approximations used.\n",
    "\n",
    "## Structural Parameters of NO$_{3\\cdot}$: Performance of DFT, HF and MP2\n",
    "\n",
    "Before diving into the theoretical aspects of exchange-correlation\n",
    "functionals, you will put a representative selection of functionals to\n",
    "good use in a notoriously tricky system, the NO$_{3\\cdot}$ radical.\n",
    "Nitrite radicals are highly reactive species that are rapidly destroyed\n",
    "by sunlight, but as the sun sets, they start to play an important role\n",
    "in chemical transformations (in what is called the night-time chemistry\n",
    "of the atmosphere). There exist various experimental and theoretical\n",
    "studies of NO$_{3\\cdot}$ (*Phys. Chem. Chem. Phys.*, **2014**, 16,\n",
    "*19437*), with the experiment indicating a fully symmetric D$_3^h$\n",
    "structure with equal N-O bond lengths of 1.24 Å and O-N-O bond angles of\n",
    "120$^\\circ$. \n",
    "\n",
    "In this exercise, you will be comparing the performance of\n",
    "various DFT exchange-correlation functionals, Hartree-Fock theory and\n",
    "MP2 in predicting these structural parameters. \n",
    "For this small system, Hartree-Fock and MP2 will be surprisingly fast; however, you may rest assured\n",
    "that for larger molecules and basis sets, all the DFT methods will outperform MP2 in computational efficiency, with some of them even beating Hartree-Fock.\n",
    "\n",
    "The coordinates for NO$_{3\\cdot}$ radical are given:"
   ]
  },
  {
   "cell_type": "code",
   "execution_count": 10,
   "metadata": {},
   "outputs": [],
   "source": [
    "import psi4\n",
    "import pandas as pd\n",
    "import numpy as np\n",
    "import matplotlib.pyplot as plt\n",
    "\n",
    "plt.style.use(['seaborn-poster', 'seaborn-ticks'])\n",
    "\n",
    "psi4.set_memory('2 GB')\n",
    "psi4.set_num_threads(4)"
   ]
  },
  {
   "cell_type": "code",
   "execution_count": 11,
   "metadata": {},
   "outputs": [],
   "source": [
    "radical = psi4.geometry(\"\"\"\n",
    "0 2\n",
    " N     0.000000     0.000000     0.000000\n",
    " O     1.400000     0.000000     0.000000\n",
    " O    -1.000000     1.000000     0.000000\n",
    " O    -1.000000    -1.000000     0.000000\n",
    " \n",
    " symmetry c1\n",
    "\"\"\")"
   ]
  },
  {
   "cell_type": "code",
   "execution_count": 12,
   "metadata": {},
   "outputs": [
    {
     "ename": "SystemError",
     "evalue": "<built-in method __init__ of PyCapsule object at 0x7f6e2c12b5a0> returned NULL without setting an error",
     "output_type": "error",
     "traceback": [
      "\u001b[0;31m---------------------------------------------------------------------------\u001b[0m",
      "\u001b[0;31mSystemError\u001b[0m                               Traceback (most recent call last)",
      "\u001b[0;32m<ipython-input-12-1320086bc30d>\u001b[0m in \u001b[0;36m<module>\u001b[0;34m\u001b[0m\n\u001b[1;32m      4\u001b[0m     \u001b[0mpsi4\u001b[0m\u001b[0;34m.\u001b[0m\u001b[0mcore\u001b[0m\u001b[0;34m.\u001b[0m\u001b[0mset_output_file\u001b[0m\u001b[0;34m(\u001b[0m\u001b[0;34mf'radical_opt_{m}.log'\u001b[0m\u001b[0;34m,\u001b[0m \u001b[0;32mFalse\u001b[0m\u001b[0;34m)\u001b[0m \u001b[0;31m# single log file\u001b[0m\u001b[0;34m\u001b[0m\u001b[0;34m\u001b[0m\u001b[0m\n\u001b[1;32m      5\u001b[0m     \u001b[0mmethod\u001b[0m \u001b[0;34m=\u001b[0m \u001b[0mm\u001b[0m\u001b[0;34m+\u001b[0m\u001b[0;34m'/6-31+G**'\u001b[0m\u001b[0;34m\u001b[0m\u001b[0;34m\u001b[0m\u001b[0m\n\u001b[0;32m----> 6\u001b[0;31m     \u001b[0mE\u001b[0m\u001b[0;34m,\u001b[0m \u001b[0mwfn\u001b[0m \u001b[0;34m=\u001b[0m \u001b[0mpsi4\u001b[0m\u001b[0;34m.\u001b[0m\u001b[0moptimize\u001b[0m\u001b[0;34m(\u001b[0m\u001b[0mmethod\u001b[0m\u001b[0;34m,\u001b[0m \u001b[0mmolecule\u001b[0m\u001b[0;34m=\u001b[0m\u001b[0mradical\u001b[0m\u001b[0;34m)\u001b[0m\u001b[0;34m\u001b[0m\u001b[0;34m\u001b[0m\u001b[0m\n\u001b[0m\u001b[1;32m      7\u001b[0m     \u001b[0mmolden\u001b[0m\u001b[0;34m(\u001b[0m\u001b[0mwfn\u001b[0m\u001b[0;34m,\u001b[0m \u001b[0;34m'radical_opt_{m}.molden'\u001b[0m\u001b[0;34m)\u001b[0m\u001b[0;34m\u001b[0m\u001b[0;34m\u001b[0m\u001b[0m\n",
      "\u001b[0;32m~/miniconda3/envs/iesm/lib/python3.7/site-packages/psi4/driver/driver.py\u001b[0m in \u001b[0;36moptimize\u001b[0;34m(name, **kwargs)\u001b[0m\n\u001b[1;32m   1050\u001b[0m         \u001b[0;31m# Compute the gradient - preserve opt data despite core.clean calls in gradient\u001b[0m\u001b[0;34m\u001b[0m\u001b[0;34m\u001b[0m\u001b[0;34m\u001b[0m\u001b[0m\n\u001b[1;32m   1051\u001b[0m         \u001b[0mcore\u001b[0m\u001b[0;34m.\u001b[0m\u001b[0mIOManager\u001b[0m\u001b[0;34m.\u001b[0m\u001b[0mshared_object\u001b[0m\u001b[0;34m(\u001b[0m\u001b[0;34m)\u001b[0m\u001b[0;34m.\u001b[0m\u001b[0mset_specific_retention\u001b[0m\u001b[0;34m(\u001b[0m\u001b[0;36m1\u001b[0m\u001b[0;34m,\u001b[0m \u001b[0;32mTrue\u001b[0m\u001b[0;34m)\u001b[0m\u001b[0;34m\u001b[0m\u001b[0;34m\u001b[0m\u001b[0m\n\u001b[0;32m-> 1052\u001b[0;31m         \u001b[0mG\u001b[0m\u001b[0;34m,\u001b[0m \u001b[0mwfn\u001b[0m \u001b[0;34m=\u001b[0m \u001b[0mgradient\u001b[0m\u001b[0;34m(\u001b[0m\u001b[0mlowername\u001b[0m\u001b[0;34m,\u001b[0m \u001b[0mreturn_wfn\u001b[0m\u001b[0;34m=\u001b[0m\u001b[0;32mTrue\u001b[0m\u001b[0;34m,\u001b[0m \u001b[0mmolecule\u001b[0m\u001b[0;34m=\u001b[0m\u001b[0mmoleculeclone\u001b[0m\u001b[0;34m,\u001b[0m \u001b[0;34m**\u001b[0m\u001b[0mkwargs\u001b[0m\u001b[0;34m)\u001b[0m\u001b[0;34m\u001b[0m\u001b[0;34m\u001b[0m\u001b[0m\n\u001b[0m\u001b[1;32m   1053\u001b[0m         \u001b[0mthisenergy\u001b[0m \u001b[0;34m=\u001b[0m \u001b[0mcore\u001b[0m\u001b[0;34m.\u001b[0m\u001b[0mvariable\u001b[0m\u001b[0;34m(\u001b[0m\u001b[0;34m'CURRENT ENERGY'\u001b[0m\u001b[0;34m)\u001b[0m\u001b[0;34m\u001b[0m\u001b[0;34m\u001b[0m\u001b[0m\n\u001b[1;32m   1054\u001b[0m \u001b[0;34m\u001b[0m\u001b[0m\n",
      "\u001b[0;32m~/miniconda3/envs/iesm/lib/python3.7/site-packages/psi4/driver/driver.py\u001b[0m in \u001b[0;36mgradient\u001b[0;34m(name, **kwargs)\u001b[0m\n\u001b[1;32m    650\u001b[0m         \u001b[0;32mif\u001b[0m \u001b[0mdertype\u001b[0m \u001b[0;34m==\u001b[0m \u001b[0;36m1\u001b[0m\u001b[0;34m:\u001b[0m\u001b[0;34m\u001b[0m\u001b[0;34m\u001b[0m\u001b[0m\n\u001b[1;32m    651\u001b[0m             \u001b[0;31m# Bounce to CBS in pure-gradient mode if \"method/basis\" name and all parts have analytic grad. avail.\u001b[0m\u001b[0;34m\u001b[0m\u001b[0;34m\u001b[0m\u001b[0;34m\u001b[0m\u001b[0m\n\u001b[0;32m--> 652\u001b[0;31m             \u001b[0;32mreturn\u001b[0m \u001b[0mdriver_cbs\u001b[0m\u001b[0;34m.\u001b[0m\u001b[0m_cbs_gufunc\u001b[0m\u001b[0;34m(\u001b[0m\u001b[0mgradient\u001b[0m\u001b[0;34m,\u001b[0m \u001b[0mname\u001b[0m\u001b[0;34m,\u001b[0m \u001b[0mptype\u001b[0m\u001b[0;34m=\u001b[0m\u001b[0;34m'gradient'\u001b[0m\u001b[0;34m,\u001b[0m \u001b[0;34m**\u001b[0m\u001b[0mkwargs\u001b[0m\u001b[0;34m)\u001b[0m\u001b[0;34m\u001b[0m\u001b[0;34m\u001b[0m\u001b[0m\n\u001b[0m\u001b[1;32m    653\u001b[0m         \u001b[0;32melse\u001b[0m\u001b[0;34m:\u001b[0m\u001b[0;34m\u001b[0m\u001b[0;34m\u001b[0m\u001b[0m\n\u001b[1;32m    654\u001b[0m             \u001b[0;31m# Set method-dependent scf convergence criteria (test on procedures['energy'] since that's guaranteed)\u001b[0m\u001b[0;34m\u001b[0m\u001b[0;34m\u001b[0m\u001b[0;34m\u001b[0m\u001b[0m\n",
      "\u001b[0;32m~/miniconda3/envs/iesm/lib/python3.7/site-packages/psi4/driver/driver_cbs.py\u001b[0m in \u001b[0;36m_cbs_gufunc\u001b[0;34m(func, total_method_name, **kwargs)\u001b[0m\n\u001b[1;32m   1947\u001b[0m         \u001b[0moptstash\u001b[0m \u001b[0;34m=\u001b[0m \u001b[0mp4util\u001b[0m\u001b[0;34m.\u001b[0m\u001b[0mOptionsState\u001b[0m\u001b[0;34m(\u001b[0m\u001b[0;34m[\u001b[0m\u001b[0;34m'BASIS'\u001b[0m\u001b[0;34m]\u001b[0m\u001b[0;34m)\u001b[0m\u001b[0;34m\u001b[0m\u001b[0;34m\u001b[0m\u001b[0m\n\u001b[1;32m   1948\u001b[0m         \u001b[0mcore\u001b[0m\u001b[0;34m.\u001b[0m\u001b[0mset_global_option\u001b[0m\u001b[0;34m(\u001b[0m\u001b[0;34m'BASIS'\u001b[0m\u001b[0;34m,\u001b[0m \u001b[0mbasis\u001b[0m\u001b[0;34m)\u001b[0m\u001b[0;34m\u001b[0m\u001b[0;34m\u001b[0m\u001b[0m\n\u001b[0;32m-> 1949\u001b[0;31m         \u001b[0mptype_value\u001b[0m\u001b[0;34m,\u001b[0m \u001b[0mwfn\u001b[0m \u001b[0;34m=\u001b[0m \u001b[0mfunc\u001b[0m\u001b[0;34m(\u001b[0m\u001b[0mmethod_name\u001b[0m\u001b[0;34m,\u001b[0m \u001b[0mreturn_wfn\u001b[0m\u001b[0;34m=\u001b[0m\u001b[0;32mTrue\u001b[0m\u001b[0;34m,\u001b[0m \u001b[0mmolecule\u001b[0m\u001b[0;34m=\u001b[0m\u001b[0mmolecule\u001b[0m\u001b[0;34m,\u001b[0m \u001b[0;34m**\u001b[0m\u001b[0mkwargs\u001b[0m\u001b[0;34m)\u001b[0m\u001b[0;34m\u001b[0m\u001b[0;34m\u001b[0m\u001b[0m\n\u001b[0m\u001b[1;32m   1950\u001b[0m         \u001b[0mcore\u001b[0m\u001b[0;34m.\u001b[0m\u001b[0mclean\u001b[0m\u001b[0;34m(\u001b[0m\u001b[0;34m)\u001b[0m\u001b[0;34m\u001b[0m\u001b[0;34m\u001b[0m\u001b[0m\n\u001b[1;32m   1951\u001b[0m \u001b[0;34m\u001b[0m\u001b[0m\n",
      "\u001b[0;32m~/miniconda3/envs/iesm/lib/python3.7/site-packages/psi4/driver/driver.py\u001b[0m in \u001b[0;36mgradient\u001b[0;34m(name, **kwargs)\u001b[0m\n\u001b[1;32m    689\u001b[0m \u001b[0;34m\u001b[0m\u001b[0m\n\u001b[1;32m    690\u001b[0m         \u001b[0;31m# Perform the gradient calculation\u001b[0m\u001b[0;34m\u001b[0m\u001b[0;34m\u001b[0m\u001b[0;34m\u001b[0m\u001b[0m\n\u001b[0;32m--> 691\u001b[0;31m         \u001b[0mwfn\u001b[0m \u001b[0;34m=\u001b[0m \u001b[0mprocedures\u001b[0m\u001b[0;34m[\u001b[0m\u001b[0;34m'gradient'\u001b[0m\u001b[0;34m]\u001b[0m\u001b[0;34m[\u001b[0m\u001b[0mlowername\u001b[0m\u001b[0;34m]\u001b[0m\u001b[0;34m(\u001b[0m\u001b[0mlowername\u001b[0m\u001b[0;34m,\u001b[0m \u001b[0mmolecule\u001b[0m\u001b[0;34m=\u001b[0m\u001b[0mmolecule\u001b[0m\u001b[0;34m,\u001b[0m \u001b[0;34m**\u001b[0m\u001b[0mkwargs\u001b[0m\u001b[0;34m)\u001b[0m\u001b[0;34m\u001b[0m\u001b[0;34m\u001b[0m\u001b[0m\n\u001b[0m\u001b[1;32m    692\u001b[0m \u001b[0;34m\u001b[0m\u001b[0m\n\u001b[1;32m    693\u001b[0m     \u001b[0;32melse\u001b[0m\u001b[0;34m:\u001b[0m\u001b[0;34m\u001b[0m\u001b[0;34m\u001b[0m\u001b[0m\n",
      "\u001b[0;32m~/miniconda3/envs/iesm/lib/python3.7/site-packages/psi4/driver/procrouting/proc.py\u001b[0m in \u001b[0;36mselect_mp2_gradient\u001b[0;34m(name, **kwargs)\u001b[0m\n\u001b[1;32m    161\u001b[0m         \u001b[0;32mreturn\u001b[0m\u001b[0;34m\u001b[0m\u001b[0;34m\u001b[0m\u001b[0m\n\u001b[1;32m    162\u001b[0m     \u001b[0;32melse\u001b[0m\u001b[0;34m:\u001b[0m\u001b[0;34m\u001b[0m\u001b[0;34m\u001b[0m\u001b[0m\n\u001b[0;32m--> 163\u001b[0;31m         \u001b[0;32mreturn\u001b[0m \u001b[0mfunc\u001b[0m\u001b[0;34m(\u001b[0m\u001b[0mname\u001b[0m\u001b[0;34m,\u001b[0m \u001b[0;34m**\u001b[0m\u001b[0mkwargs\u001b[0m\u001b[0;34m)\u001b[0m\u001b[0;34m\u001b[0m\u001b[0;34m\u001b[0m\u001b[0m\n\u001b[0m\u001b[1;32m    164\u001b[0m \u001b[0;34m\u001b[0m\u001b[0m\n\u001b[1;32m    165\u001b[0m \u001b[0;34m\u001b[0m\u001b[0m\n",
      "\u001b[0;32m~/miniconda3/envs/iesm/lib/python3.7/site-packages/psi4/driver/procrouting/proc.py\u001b[0m in \u001b[0;36mrun_dfmp2_gradient\u001b[0;34m(name, **kwargs)\u001b[0m\n\u001b[1;32m   2182\u001b[0m     \u001b[0mref_wfn\u001b[0m \u001b[0;34m=\u001b[0m \u001b[0mkwargs\u001b[0m\u001b[0;34m.\u001b[0m\u001b[0mget\u001b[0m\u001b[0;34m(\u001b[0m\u001b[0;34m'ref_wfn'\u001b[0m\u001b[0;34m,\u001b[0m \u001b[0;32mNone\u001b[0m\u001b[0;34m)\u001b[0m\u001b[0;34m\u001b[0m\u001b[0;34m\u001b[0m\u001b[0m\n\u001b[1;32m   2183\u001b[0m     \u001b[0;32mif\u001b[0m \u001b[0mref_wfn\u001b[0m \u001b[0;32mis\u001b[0m \u001b[0;32mNone\u001b[0m\u001b[0;34m:\u001b[0m\u001b[0;34m\u001b[0m\u001b[0;34m\u001b[0m\u001b[0m\n\u001b[0;32m-> 2184\u001b[0;31m         \u001b[0mref_wfn\u001b[0m \u001b[0;34m=\u001b[0m \u001b[0mscf_helper\u001b[0m\u001b[0;34m(\u001b[0m\u001b[0mname\u001b[0m\u001b[0;34m,\u001b[0m \u001b[0;34m**\u001b[0m\u001b[0mkwargs\u001b[0m\u001b[0;34m)\u001b[0m  \u001b[0;31m# C1 certified\u001b[0m\u001b[0;34m\u001b[0m\u001b[0;34m\u001b[0m\u001b[0m\n\u001b[0m\u001b[1;32m   2185\u001b[0m \u001b[0;34m\u001b[0m\u001b[0m\n\u001b[1;32m   2186\u001b[0m     \u001b[0;32mif\u001b[0m \u001b[0mref_wfn\u001b[0m\u001b[0;34m.\u001b[0m\u001b[0mbasisset\u001b[0m\u001b[0;34m(\u001b[0m\u001b[0;34m)\u001b[0m\u001b[0;34m.\u001b[0m\u001b[0mhas_ECP\u001b[0m\u001b[0;34m(\u001b[0m\u001b[0;34m)\u001b[0m\u001b[0;34m:\u001b[0m\u001b[0;34m\u001b[0m\u001b[0;34m\u001b[0m\u001b[0m\n",
      "\u001b[0;32m~/miniconda3/envs/iesm/lib/python3.7/site-packages/psi4/driver/procrouting/proc.py\u001b[0m in \u001b[0;36mscf_helper\u001b[0;34m(name, post_scf, **kwargs)\u001b[0m\n\u001b[1;32m   1279\u001b[0m         \u001b[0mcore\u001b[0m\u001b[0;34m.\u001b[0m\u001b[0mprint_out\u001b[0m\u001b[0;34m(\u001b[0m\u001b[0;34m\"         \"\u001b[0m \u001b[0;34m+\u001b[0m \u001b[0mbanner\u001b[0m\u001b[0;34m.\u001b[0m\u001b[0mcenter\u001b[0m\u001b[0;34m(\u001b[0m\u001b[0;36m58\u001b[0m\u001b[0;34m)\u001b[0m\u001b[0;34m)\u001b[0m\u001b[0;34m;\u001b[0m\u001b[0;34m\u001b[0m\u001b[0;34m\u001b[0m\u001b[0m\n\u001b[1;32m   1280\u001b[0m \u001b[0;34m\u001b[0m\u001b[0m\n\u001b[0;32m-> 1281\u001b[0;31m     \u001b[0mscf_wfn\u001b[0m \u001b[0;34m=\u001b[0m \u001b[0mscf_wavefunction_factory\u001b[0m\u001b[0;34m(\u001b[0m\u001b[0mname\u001b[0m\u001b[0;34m,\u001b[0m \u001b[0mbase_wfn\u001b[0m\u001b[0;34m,\u001b[0m \u001b[0mcore\u001b[0m\u001b[0;34m.\u001b[0m\u001b[0mget_option\u001b[0m\u001b[0;34m(\u001b[0m\u001b[0;34m'SCF'\u001b[0m\u001b[0;34m,\u001b[0m \u001b[0;34m'REFERENCE'\u001b[0m\u001b[0;34m)\u001b[0m\u001b[0;34m,\u001b[0m \u001b[0;34m**\u001b[0m\u001b[0mkwargs\u001b[0m\u001b[0;34m)\u001b[0m\u001b[0;34m\u001b[0m\u001b[0;34m\u001b[0m\u001b[0m\n\u001b[0m\u001b[1;32m   1282\u001b[0m     \u001b[0mcore\u001b[0m\u001b[0;34m.\u001b[0m\u001b[0mset_legacy_wavefunction\u001b[0m\u001b[0;34m(\u001b[0m\u001b[0mscf_wfn\u001b[0m\u001b[0;34m)\u001b[0m\u001b[0;34m\u001b[0m\u001b[0;34m\u001b[0m\u001b[0m\n\u001b[1;32m   1283\u001b[0m \u001b[0;34m\u001b[0m\u001b[0m\n",
      "\u001b[0;32m~/miniconda3/envs/iesm/lib/python3.7/site-packages/psi4/driver/procrouting/proc.py\u001b[0m in \u001b[0;36mscf_wavefunction_factory\u001b[0;34m(name, ref_wfn, reference, **kwargs)\u001b[0m\n\u001b[1;32m   1003\u001b[0m     \u001b[0mcore\u001b[0m\u001b[0;34m.\u001b[0m\u001b[0mprepare_options_for_module\u001b[0m\u001b[0;34m(\u001b[0m\u001b[0;34m\"SCF\"\u001b[0m\u001b[0;34m)\u001b[0m\u001b[0;34m\u001b[0m\u001b[0;34m\u001b[0m\u001b[0m\n\u001b[1;32m   1004\u001b[0m     \u001b[0;32mif\u001b[0m \u001b[0mreference\u001b[0m \u001b[0;32min\u001b[0m \u001b[0;34m[\u001b[0m\u001b[0;34m\"RHF\"\u001b[0m\u001b[0;34m,\u001b[0m \u001b[0;34m\"RKS\"\u001b[0m\u001b[0;34m]\u001b[0m\u001b[0;34m:\u001b[0m\u001b[0;34m\u001b[0m\u001b[0;34m\u001b[0m\u001b[0m\n\u001b[0;32m-> 1005\u001b[0;31m         \u001b[0mwfn\u001b[0m \u001b[0;34m=\u001b[0m \u001b[0mcore\u001b[0m\u001b[0;34m.\u001b[0m\u001b[0mRHF\u001b[0m\u001b[0;34m(\u001b[0m\u001b[0mref_wfn\u001b[0m\u001b[0;34m,\u001b[0m \u001b[0msuperfunc\u001b[0m\u001b[0;34m)\u001b[0m\u001b[0;34m\u001b[0m\u001b[0;34m\u001b[0m\u001b[0m\n\u001b[0m\u001b[1;32m   1006\u001b[0m     \u001b[0;32melif\u001b[0m \u001b[0mreference\u001b[0m \u001b[0;34m==\u001b[0m \u001b[0;34m\"ROHF\"\u001b[0m\u001b[0;34m:\u001b[0m\u001b[0;34m\u001b[0m\u001b[0;34m\u001b[0m\u001b[0m\n\u001b[1;32m   1007\u001b[0m         \u001b[0mwfn\u001b[0m \u001b[0;34m=\u001b[0m \u001b[0mcore\u001b[0m\u001b[0;34m.\u001b[0m\u001b[0mROHF\u001b[0m\u001b[0;34m(\u001b[0m\u001b[0mref_wfn\u001b[0m\u001b[0;34m,\u001b[0m \u001b[0msuperfunc\u001b[0m\u001b[0;34m)\u001b[0m\u001b[0;34m\u001b[0m\u001b[0;34m\u001b[0m\u001b[0m\n",
      "\u001b[0;31mSystemError\u001b[0m: <built-in method __init__ of PyCapsule object at 0x7f6e2c12b5a0> returned NULL without setting an error"
     ]
    }
   ],
   "source": [
    "methods = ['mp2', 'hf', 'svwn', 'blyp', 'bp86', 'pbe', 'b3lyp', 'b97-2', 'm06-l', 'm06-2x', 'tpss', 'mpw1pw']\n",
    "\n",
    "for m in methods:\n",
    "    psi4.core.set_output_file(f'radical_opt_{m}.log', False) # single log file\n",
    "    method = m+'/6-31+G**'\n",
    "    E, wfn = psi4.optimize(method, molecule=radical)\n",
    "    molden(wfn, 'radical_opt_{m}.molden')\n"
   ]
  },
  {
   "cell_type": "code",
   "execution_count": null,
   "metadata": {},
   "outputs": [],
   "source": []
  }
 ],
 "metadata": {
  "kernelspec": {
   "display_name": "iesm",
   "language": "python",
   "name": "iesm"
  },
  "language_info": {
   "codemirror_mode": {
    "name": "ipython",
    "version": 3
   },
   "file_extension": ".py",
   "mimetype": "text/x-python",
   "name": "python",
   "nbconvert_exporter": "python",
   "pygments_lexer": "ipython3",
   "version": "3.7.10"
  }
 },
 "nbformat": 4,
 "nbformat_minor": 2
}
