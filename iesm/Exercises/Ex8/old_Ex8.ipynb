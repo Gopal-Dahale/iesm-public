{
 "cells": [
  {
   "cell_type": "markdown",
   "metadata": {},
   "source": [
    "# Finding the Transition state\n",
    "\n",
    "We will first optimize our transition state guess keeping the C-Cl distance fixed. \n",
    "\n",
    "First, lets import some modules"
   ]
  },
  {
   "cell_type": "code",
   "execution_count": 1,
   "metadata": {},
   "outputs": [],
   "source": [
    "import psi4\n",
    "from helpers import show_normal_modes\n",
    "\n",
    "import ipywidgets\n",
    "from ipywidgets import interact, interactive, fixed, widgets\n",
    "import py3Dmol\n",
    "\n",
    "import numpy as np\n",
    "import matplotlib.pyplot as plt"
   ]
  },
  {
   "cell_type": "markdown",
   "metadata": {},
   "source": [
    "Set ressource usage"
   ]
  },
  {
   "cell_type": "code",
   "execution_count": 2,
   "metadata": {},
   "outputs": [
    {
     "data": {
      "text/plain": [
       "2000000000"
      ]
     },
     "execution_count": 2,
     "metadata": {},
     "output_type": "execute_result"
    }
   ],
   "source": [
    "psi4.set_num_threads(2)\n",
    "psi4.set_memory('2 GB')"
   ]
  },
  {
   "cell_type": "markdown",
   "metadata": {},
   "source": [
    "Define TS guess"
   ]
  },
  {
   "cell_type": "code",
   "execution_count": 3,
   "metadata": {},
   "outputs": [],
   "source": [
    "ts_guess = psi4.geometry(\"\"\"\n",
    "-1 1\n",
    " symmetry c1\n",
    " c\n",
    " c   1 cc2\n",
    "cl    1 clc3        2 clcc3\n",
    " h    1 hc4         2 hcc4          3 dih4\n",
    " c    1 cc5         2 ccc5          3 dih5\n",
    " o    2 oc6         1 occ6          3 dih6\n",
    " h    2 hc7         1 hcc7          6 dih7\n",
    " h    2 hc8         1 hcc8          6 dih8\n",
    " h    5 hc9         1 hcc9          2 dih9\n",
    " h    5 hc10        1 hcc10         9 dih10\n",
    " h    5 hc11        1 hcc11         9 dih11\n",
    "cc2     =    1.500000\n",
    "clc3    =    2.400000\n",
    "clcc3   =    109.471\n",
    "hc4     =    1.089000\n",
    "hcc4    =    109.471\n",
    "dih4    =    100.000\n",
    "cc5     =    1.500000\n",
    "ccc5    =    109.471\n",
    "dih5    =   -100.000\n",
    "oc6     =    1.430000\n",
    "occ6    =     80.000\n",
    "dih6    =    180.000\n",
    "hc7     =    1.070000\n",
    "hcc7    =    109.471\n",
    "dih7    =    120.000\n",
    "hc8     =    1.070000\n",
    "hcc8    =    109.471\n",
    "dih8    =    240.000\n",
    "hc9     =    1.070000\n",
    "hcc9    =    109.471\n",
    "dih9    =    180.000\n",
    "hc10    =    1.070000\n",
    "hcc10   =    109.471\n",
    "dih10   =    120.000\n",
    "hc11    =    1.070000\n",
    "hcc11   =    109.471\n",
    "dih11   =    240.000\n",
    "\"\"\")\n"
   ]
  },
  {
   "cell_type": "markdown",
   "metadata": {},
   "source": [
    "# Constrained optimization"
   ]
  },
  {
   "cell_type": "code",
   "execution_count": 4,
   "metadata": {},
   "outputs": [
    {
     "name": "stdout",
     "output_type": "stream",
     "text": [
      "Optimizer: Optimization complete!\n"
     ]
    },
    {
     "data": {
      "text/plain": [
       "-653.2420054380134"
      ]
     },
     "execution_count": 4,
     "metadata": {},
     "output_type": "execute_result"
    }
   ],
   "source": [
    "psi4.core.set_output_file(f'poxide.log', False)\n",
    "psi4.set_options({\"frozen_distance\":\"1 3\"})\n",
    "psi4.optimize('b3pw91/6-31+G*', molecule=ts_guess)"
   ]
  },
  {
   "cell_type": "markdown",
   "metadata": {},
   "source": [
    "So now we have our optimized transition state guess. Now we want to find out whether we this guess is close to the transition state (meaning it has one imaginary frequency) and then optimize to the actual transition state. \n",
    "\n",
    "If we set `full_hess_every` to `0` a frequency calculation will be performed at the begining (you could also do it seperately using `psi4.frequency([..])`. By setting `opt_type` to `ts` the optimization will try to find the 1st order saddlepoint that is the transition state. \n",
    "\n",
    "We will write the normal modes to a file for visualization. "
   ]
  },
  {
   "cell_type": "code",
   "execution_count": 5,
   "metadata": {},
   "outputs": [
    {
     "name": "stdout",
     "output_type": "stream",
     "text": [
      " 55 displacements needed.\n",
      " 1 2 3 4 5 6 7 8 9 10 11 12 13 14 15 16 17 18 19 20 21 22 23 24 25 26 27 28 29 30 31 32 33 34 35 36 37 38 39 40 41 42 43 44 45 46 47 48 49 50 51 52 53 54 55\n",
      "Warning: thermodynamics relations excluded imaginary frequencies: ['379.9938i']\n",
      "Warning: used thermodynamics relations inappropriate for low-frequency modes: ['77.1095' '182.3792' '223.2504' '301.7156' '382.3507' '407.3933']\n",
      "Optimizer: Optimization complete!\n"
     ]
    },
    {
     "data": {
      "text/plain": [
       "-653.240347978187"
      ]
     },
     "execution_count": 5,
     "metadata": {},
     "output_type": "execute_result"
    }
   ],
   "source": [
    "ts = ts_guess.clone()\n",
    "psi4.core.clean_options()\n",
    "\n",
    "psi4.core.set_output_file(f'ts.log', False)\n",
    "psi4.set_options({\n",
    "    \"opt_type\":\"ts\",\n",
    "    \"geom_maxiter\":100, \n",
    "    \"full_hess_every\":0,\n",
    "    \"normal_modes_write\": True\n",
    "    })\n",
    "\n",
    "psi4.optimize('b3pw91/6-31+G*', molecule=ts)\n"
   ]
  },
  {
   "cell_type": "markdown",
   "metadata": {},
   "source": [
    "We can also compare the TS with the guess to see how far of we are. \n",
    "\n",
    "<span style=\"background:yellow\">TS</span> <span style=\"background:gray\">TS Guess</span>"
   ]
  },
  {
   "cell_type": "code",
   "execution_count": 6,
   "metadata": {},
   "outputs": [
    {
     "data": {
      "application/3dmoljs_load.v0": "<div id=\"3dmolviewer_16256732812280016\"  style=\"position: relative; width: 400px; height: 400px\">\n        <p id=\"3dmolwarning_16256732812280016\" style=\"background-color:#ffcccc;color:black\">You appear to be running in JupyterLab (or JavaScript failed to load for some other reason).  You need to install the 3dmol extension: <br>\n        <tt>jupyter labextension install jupyterlab_3dmol</tt></p>\n        </div>\n<script>\n\nvar loadScriptAsync = function(uri){\n  return new Promise((resolve, reject) => {\n    var tag = document.createElement('script');\n    tag.src = uri;\n    tag.async = true;\n    tag.onload = () => {\n      resolve();\n    };\n  var firstScriptTag = document.getElementsByTagName('script')[0];\n  firstScriptTag.parentNode.insertBefore(tag, firstScriptTag);\n});\n};\n\nif(typeof $3Dmolpromise === 'undefined') {\n$3Dmolpromise = null;\n  $3Dmolpromise = loadScriptAsync('https://3dmol.org/build/3Dmol.js');\n}\n\nvar viewer_16256732812280016 = null;\nvar warn = document.getElementById(\"3dmolwarning_16256732812280016\");\nif(warn) {\n    warn.parentNode.removeChild(warn);\n}\n$3Dmolpromise.then(function() {\nviewer_16256732812280016 = $3Dmol.createViewer($(\"#3dmolviewer_16256732812280016\"),{backgroundColor:\"white\"});\nviewer_16256732812280016.zoomTo();\n\tviewer_16256732812280016.addModel(\"11\\n\\n C    0.168363907425   -0.611187981498   -0.078234631358\\n C    0.168363907425   -0.611187981498    1.369040641790\\nCL    0.168363907425    1.737520668041   -0.571760395204\\n H    1.124756235057   -0.564678175324   -0.576634818062\\n C   -1.061019764666   -0.914131311133   -0.894932818587\\n O    0.349521570304   -1.940830529605    0.960523096586\\n H    1.016051185626   -0.132529731603    1.877788081331\\n H   -0.785125801213   -0.382405969188    1.868579374355\\n H   -1.072759416710   -0.304957889319   -1.801639075528\\n H   -1.080419980421   -1.977970411764   -1.164022348143\\n H   -1.967423576234   -0.683396592566   -0.323296465405\\n\",\"xyz\");\n\tviewer_16256732812280016.addModel(\"11\\n\\n C    0.161277652442   -0.511659237977   -0.065756263639\\n C    0.161277652442   -0.511659237977    1.409959596277\\nCL    0.161277652442    1.675674177759   -0.829742424050\\n H    1.132438279891   -0.697673060564   -0.509095183799\\n C   -1.040792304165   -1.016986818226   -0.814824998096\\n O    0.358115777284   -1.869113056275    1.405395111665\\n H    0.973976046119    0.103377254213    1.848144294988\\n H   -0.802731568808   -0.160202392616    1.838575231274\\n H   -0.948171371421   -0.797953163311   -1.882592940287\\n H   -1.131686555465   -2.098706543170   -0.669893259669\\n H   -1.951363511575   -0.532540703580   -0.443136552538\\n\",\"xyz\");\n\tviewer_16256732812280016.setStyle({\"stick\": {}, \"sphere\": {\"scale\": 0.1}});\n\tviewer_16256732812280016.setStyle({\"model\": 0},{\"stick\": {\"colorscheme\": \"yellowCarbon\"}, \"sphere\": {\"scale\": 0.1}});\n\tviewer_16256732812280016.zoomTo();\nviewer_16256732812280016.render();\n});\n</script>",
      "text/html": [
       "<div id=\"3dmolviewer_16256732812280016\"  style=\"position: relative; width: 400px; height: 400px\">\n",
       "        <p id=\"3dmolwarning_16256732812280016\" style=\"background-color:#ffcccc;color:black\">You appear to be running in JupyterLab (or JavaScript failed to load for some other reason).  You need to install the 3dmol extension: <br>\n",
       "        <tt>jupyter labextension install jupyterlab_3dmol</tt></p>\n",
       "        </div>\n",
       "<script>\n",
       "\n",
       "var loadScriptAsync = function(uri){\n",
       "  return new Promise((resolve, reject) => {\n",
       "    var tag = document.createElement('script');\n",
       "    tag.src = uri;\n",
       "    tag.async = true;\n",
       "    tag.onload = () => {\n",
       "      resolve();\n",
       "    };\n",
       "  var firstScriptTag = document.getElementsByTagName('script')[0];\n",
       "  firstScriptTag.parentNode.insertBefore(tag, firstScriptTag);\n",
       "});\n",
       "};\n",
       "\n",
       "if(typeof $3Dmolpromise === 'undefined') {\n",
       "$3Dmolpromise = null;\n",
       "  $3Dmolpromise = loadScriptAsync('https://3dmol.org/build/3Dmol.js');\n",
       "}\n",
       "\n",
       "var viewer_16256732812280016 = null;\n",
       "var warn = document.getElementById(\"3dmolwarning_16256732812280016\");\n",
       "if(warn) {\n",
       "    warn.parentNode.removeChild(warn);\n",
       "}\n",
       "$3Dmolpromise.then(function() {\n",
       "viewer_16256732812280016 = $3Dmol.createViewer($(\"#3dmolviewer_16256732812280016\"),{backgroundColor:\"white\"});\n",
       "viewer_16256732812280016.zoomTo();\n",
       "\tviewer_16256732812280016.addModel(\"11\\n\\n C    0.168363907425   -0.611187981498   -0.078234631358\\n C    0.168363907425   -0.611187981498    1.369040641790\\nCL    0.168363907425    1.737520668041   -0.571760395204\\n H    1.124756235057   -0.564678175324   -0.576634818062\\n C   -1.061019764666   -0.914131311133   -0.894932818587\\n O    0.349521570304   -1.940830529605    0.960523096586\\n H    1.016051185626   -0.132529731603    1.877788081331\\n H   -0.785125801213   -0.382405969188    1.868579374355\\n H   -1.072759416710   -0.304957889319   -1.801639075528\\n H   -1.080419980421   -1.977970411764   -1.164022348143\\n H   -1.967423576234   -0.683396592566   -0.323296465405\\n\",\"xyz\");\n",
       "\tviewer_16256732812280016.addModel(\"11\\n\\n C    0.161277652442   -0.511659237977   -0.065756263639\\n C    0.161277652442   -0.511659237977    1.409959596277\\nCL    0.161277652442    1.675674177759   -0.829742424050\\n H    1.132438279891   -0.697673060564   -0.509095183799\\n C   -1.040792304165   -1.016986818226   -0.814824998096\\n O    0.358115777284   -1.869113056275    1.405395111665\\n H    0.973976046119    0.103377254213    1.848144294988\\n H   -0.802731568808   -0.160202392616    1.838575231274\\n H   -0.948171371421   -0.797953163311   -1.882592940287\\n H   -1.131686555465   -2.098706543170   -0.669893259669\\n H   -1.951363511575   -0.532540703580   -0.443136552538\\n\",\"xyz\");\n",
       "\tviewer_16256732812280016.setStyle({\"stick\": {}, \"sphere\": {\"scale\": 0.1}});\n",
       "\tviewer_16256732812280016.setStyle({\"model\": 0},{\"stick\": {\"colorscheme\": \"yellowCarbon\"}, \"sphere\": {\"scale\": 0.1}});\n",
       "\tviewer_16256732812280016.zoomTo();\n",
       "viewer_16256732812280016.render();\n",
       "});\n",
       "</script>"
      ]
     },
     "metadata": {},
     "output_type": "display_data"
    }
   ],
   "source": [
    "view = py3Dmol.view(width=400, height=400)\n",
    "view.addModel(ts_guess.save_string_xyz_file(), \"xyz\")\n",
    "view.addModel(ts.save_string_xyz_file(), \"xyz\")\n",
    "view.setStyle({'stick':{}, 'sphere':{'scale':0.1}})\n",
    "view.setStyle({'model':0},{'stick':{'colorscheme':'yellowCarbon'}, 'sphere':{'scale':0.1}})\n",
    "view.zoomTo()\n",
    "view.show()"
   ]
  },
  {
   "cell_type": "markdown",
   "metadata": {},
   "source": [
    "```{admonition} Exercise 2\n",
    ":class: exercise\n",
    "Take a screenshot of the spectrum and note the imaginary vibrational\n",
    "    mode. What motion is this mode related to? Do the same for two real\n",
    "    vibrational modes of your choice.\n",
    "```"
   ]
  },
  {
   "cell_type": "markdown",
   "metadata": {},
   "source": [
    "```{admonition} Exercise 1\n",
    ":class: exercise\n",
    "Take a screenshot of the optimised transition state structure. How did the structure change with respect to the constrained-optimised guess?\n",
    "```"
   ]
  },
  {
   "cell_type": "code",
   "execution_count": 7,
   "metadata": {},
   "outputs": [],
   "source": [
    "# ts_freq = ts.clone()"
   ]
  },
  {
   "cell_type": "code",
   "execution_count": 8,
   "metadata": {},
   "outputs": [],
   "source": [
    "# #psi4.core.clean_options()\n",
    "\n",
    "# psi4.core.set_output_file(f'ts_freq.log', False)\n",
    "# psi4.set_options({\"normal_modes_write\": True})\n",
    "\n",
    "# E, wfn = psi4.frequency('b3pw91/6-31+G*', molecule=ts_freq, return_wfn=True)\n",
    "\n",
    "# gradient = wfn.gradient()"
   ]
  },
  {
   "cell_type": "code",
   "execution_count": null,
   "metadata": {},
   "outputs": [],
   "source": []
  },
  {
   "cell_type": "code",
   "execution_count": 9,
   "metadata": {
    "scrolled": true
   },
   "outputs": [
    {
     "name": "stdout",
     "output_type": "stream",
     "text": [
      "-rw-r--r-- 1 duerr software 21K Jul  7 17:53 ts.default.11195.molden_normal_modes\r\n"
     ]
    }
   ],
   "source": [
    "# check how the file is named\n",
    "!ls -lrth ts.*.molden_normal_modes"
   ]
  },
  {
   "cell_type": "markdown",
   "metadata": {},
   "source": [
    "Now we can visualize the normal modes (you need to modify the name of the file). The first (negative) normal mode should correspond to the movement characterizing the transition from reactant to product."
   ]
  },
  {
   "cell_type": "code",
   "execution_count": 11,
   "metadata": {},
   "outputs": [
    {
     "data": {
      "application/vnd.jupyter.widget-view+json": {
       "model_id": "68debe03483f44308cf78975d0a88c70",
       "version_major": 2,
       "version_minor": 0
      },
      "text/plain": [
       "interactive(children=(Dropdown(description='Normal mode:', options=((-379.9937881001, 0), (77.1095134233, 1), …"
      ]
     },
     "metadata": {},
     "output_type": "display_data"
    }
   ],
   "source": [
    "# change XXX to correct number from above command\n",
    "show_normal_modes(filename='ts.default.11195.molden_normal_modes')"
   ]
  },
  {
   "cell_type": "markdown",
   "metadata": {},
   "source": [
    "```{admonition} Exercise 2\n",
    ":class: exercise\n",
    "Is the transition state you predicted an early or a late transition state?\n",
    "```"
   ]
  },
  {
   "cell_type": "markdown",
   "metadata": {},
   "source": [
    "```{admonition} Exercise 3\n",
    ":class: exercise\n",
    "Having found a transition state, how would you now obtain the barrier height for your reaction?\n",
    "```"
   ]
  },
  {
   "cell_type": "markdown",
   "metadata": {},
   "source": [
    "```{admonition} Exercise 4\n",
    ":class: exercise\n",
    "Are there ways of verifying whether you have found a meaningful\n",
    "    transition state? **Bonus:** How would you define 'meaningful' in\n",
    "    this context?\n",
    "```"
   ]
  },
  {
   "cell_type": "code",
   "execution_count": 12,
   "metadata": {},
   "outputs": [
    {
     "data": {
      "text/plain": [
       "'11\\n\\n C    0.161277652442   -0.511659237977   -0.065756263639\\n C    0.161277652442   -0.511659237977    1.409959596277\\nCL    0.161277652442    1.675674177759   -0.829742424050\\n H    1.132438279891   -0.697673060564   -0.509095183799\\n C   -1.040792304165   -1.016986818226   -0.814824998096\\n O    0.358115777284   -1.869113056275    1.405395111665\\n H    0.973976046119    0.103377254213    1.848144294988\\n H   -0.802731568808   -0.160202392616    1.838575231274\\n H   -0.948171371421   -0.797953163311   -1.882592940287\\n H   -1.131686555465   -2.098706543170   -0.669893259669\\n H   -1.951363511575   -0.532540703580   -0.443136552538\\n'"
      ]
     },
     "execution_count": 12,
     "metadata": {},
     "output_type": "execute_result"
    }
   ],
   "source": [
    "ts.save_string_xyz_file()"
   ]
  },
  {
   "cell_type": "code",
   "execution_count": null,
   "metadata": {},
   "outputs": [],
   "source": []
  },
  {
   "cell_type": "markdown",
   "metadata": {},
   "source": [
    "Lets check again that our TS is a good one by performing a frequency calculation. \n",
    "We will save the wfn as well because we want to use the hessian to speed up our IRC search. \n"
   ]
  },
  {
   "cell_type": "code",
   "execution_count": 32,
   "metadata": {},
   "outputs": [
    {
     "name": "stdout",
     "output_type": "stream",
     "text": [
      " 55 displacements needed.\n",
      " 1 2 3 4 5 6 7 8 9 10 11 12 13 14 15 16 17 18 19 20 21 22 23 24 25 26 27 28 29 30 31 32 33 34 35 36 37 38 39 40 41 42 43 44 45 46 47 48 49 50 51 52 53 54 55\n",
      "Warning: thermodynamics relations excluded imaginary frequencies: ['312.4696i']\n",
      "Warning: used thermodynamics relations inappropriate for low-frequency modes: ['123.5115' '199.8351' '200.5871' '278.0053' '310.3330' '399.2343']\n"
     ]
    }
   ],
   "source": [
    "psi4.core.clean_options()\n",
    "E, wfn = psi4.frequency('b3pw91/6-31+G*', molecule=ts, return_wfn=True)"
   ]
  },
  {
   "cell_type": "code",
   "execution_count": 33,
   "metadata": {},
   "outputs": [],
   "source": [
    "backward = ts.clone()\n",
    "forward = ts.clone()"
   ]
  },
  {
   "cell_type": "code",
   "execution_count": 34,
   "metadata": {},
   "outputs": [
    {
     "name": "stdout",
     "output_type": "stream",
     "text": [
      "Optimizer: Optimization complete!\n"
     ]
    }
   ],
   "source": []
  },
  {
   "cell_type": "code",
   "execution_count": 35,
   "metadata": {},
   "outputs": [
    {
     "name": "stdout",
     "output_type": "stream",
     "text": [
      "Optimizer: Optimization complete!\n"
     ]
    }
   ],
   "source": []
  },
  {
   "cell_type": "markdown",
   "metadata": {},
   "source": [
    "# IRC"
   ]
  },
  {
   "cell_type": "markdown",
   "metadata": {},
   "source": [
    "As psi4 updates the molecule geometry when optimizing we make two copies for the product and reactant and then we use `irc` to follow the intrinsic reaction coordinate. \n",
    "\n",
    "A transition state search merely guarantees that one reaches a\n",
    "first-order saddle point on the PES; there is, however, no guarantee\n",
    "that it is really linked to the reactant and product. (For instance,\n",
    "there may be further transition states lying in between.) Although the\n",
    "visualisation of the imaginary vibrational mode may give some hint as to\n",
    "whether one has found a reasonable saddle point, this information is not\n",
    "sufficient to guarantee a connection to the reactant and product well.\n",
    "Following the negative Hessian eigenvalues from the transition state to\n",
    "the next local minimum, on the other hand, will immediately reveal\n",
    "whether such a connection exists. This Hessian-following in\n",
    "mass-weighted coordinates is referred to as a search along the\n",
    "*Intrinsic Reaction Coordinate* (IRC). This search will create a\n",
    "potential energy profile for the reaction, as well as a trajectory that\n",
    "visualises the lowest energy path from reactant to TS to product. \n",
    "\n",
    "In this last exercise session, you will verify whether the transition state\n",
    "you computed in the last exercise is the proper state that connects your\n",
    "starting material to the product, and you will build the reaction\n",
    "profile and visualize it."
   ]
  },
  {
   "cell_type": "code",
   "execution_count": 31,
   "metadata": {},
   "outputs": [],
   "source": [
    "backward = ts.clone()\n",
    "forward = ts.clone()"
   ]
  },
  {
   "cell_type": "markdown",
   "metadata": {},
   "source": [
    "## Backward\n",
    "\n",
    "First, let's optimize towards the reactant"
   ]
  },
  {
   "cell_type": "code",
   "execution_count": 14,
   "metadata": {},
   "outputs": [
    {
     "name": "stdout",
     "output_type": "stream",
     "text": [
      " 55 displacements needed.\n",
      " 1 2 3 4 5 6 7 8 9 10 11 12 13 14 15 16 17 18 19 20 21 22 23 24 25 26 27 28 29 30 31 32 33 34 35 36 37 38 39 40 41 42 43 44 45 46 47 48 49 50 51 52 53 54 55\n",
      "Warning: thermodynamics relations excluded imaginary frequencies: ['312.5011i']\n",
      "Warning: used thermodynamics relations inappropriate for low-frequency modes: ['123.5182' '199.9081' '200.4870' '278.0733' '310.3492' '399.2820']\n",
      "Optimizer: Optimization complete!\n"
     ]
    }
   ],
   "source": [
    "psi4.core.set_output_file(f'irc_backward.log', False)\n",
    "psi4.set_options({\n",
    "     \"geom_maxiter\":500,\n",
    "     \"full_hess_every\":-1, \n",
    "     \"opt_type\":\"irc\",\n",
    "     \"irc_step_size\":0.25,\n",
    "     \"ensure_bt_convergence\":True,\n",
    "     \"cart_hess_read\":True,\n",
    "     \"irc_direction\":\"backward\",\n",
    "     })\n",
    "\n",
    "E, history_backward = psi4.optimize('b3pw91/6-31+G*',molecule=backward, return_history=True, ref_gradient=wfn.gradient())"
   ]
  },
  {
   "cell_type": "markdown",
   "metadata": {},
   "source": [
    "## Forward"
   ]
  },
  {
   "cell_type": "code",
   "execution_count": 15,
   "metadata": {},
   "outputs": [
    {
     "name": "stdout",
     "output_type": "stream",
     "text": [
      " 55 displacements needed.\n",
      " 1 2 3 4 5 6 7 8 9 10 11 12 13 14 15 16 17 18 19 20 21 22 23 24 25 26 27 28 29 30 31 32 33 34 35 36 37 38 39 40 41 42 43 44 45 46 47 48 49 50 51 52 53 54 55\n",
      "Warning: thermodynamics relations excluded imaginary frequencies: ['312.4732i']\n",
      "Warning: used thermodynamics relations inappropriate for low-frequency modes: ['123.4763' '199.8704' '200.4904' '277.9943' '310.3984' '399.2174']\n",
      "Optimizer: Optimization complete!\n"
     ]
    }
   ],
   "source": [
    "psi4.core.set_output_file(f'irc_forward.log', False)\n",
    "psi4.set_options({\n",
    "     \"geom_maxiter\":500,\n",
    "     \"full_hess_every\":-1, \n",
    "     \"opt_type\":\"irc\",\n",
    "     \"irc_step_size\":0.25,\n",
    "     \"ensure_bt_convergence\":True,\n",
    "     \"cart_hess_read\":True,\n",
    "     \"irc_direction\":\"forward\",\n",
    "     })\n",
    "\n",
    "\n",
    "E, history_forward = psi4.optimize('b3pw91/6-31+G*',molecule=forward, return_history=True, ref_gradient=wfn.gradient())"
   ]
  },
  {
   "cell_type": "code",
   "execution_count": 36,
   "metadata": {},
   "outputs": [],
   "source": [
    "coordinates_forward = history_forward['coordinates']\n",
    "energies_forward = history_forward['energy']\n",
    "coordinates_backward = history_backward['coordinates']\n",
    "energies_backward = history_backward['energy']"
   ]
  },
  {
   "cell_type": "code",
   "execution_count": 37,
   "metadata": {},
   "outputs": [],
   "source": [
    "def drawXYZGeomNum(geom, conf):\n",
    "    view = py3Dmol.view(width=400, height=400)\n",
    "    view.addModel(geom[conf], \"xyz\")\n",
    "    view.setStyle({'stick':{}, 'sphere':{'scale':0.1}})\n",
    "    view.zoomTo()\n",
    "    return(view.show())\n",
    "\n",
    "def drawXYZGeomSlider(geom):\n",
    "    interact(drawXYZGeomNum, geom=fixed(geom), conf=widgets.IntSlider(min=0, max=len(geom)-1, step=1))\n",
    "\n"
   ]
  },
  {
   "cell_type": "code",
   "execution_count": 38,
   "metadata": {},
   "outputs": [],
   "source": [
    "hartree2A = 0.52917721067121\n",
    "forward_e = [energy * psi4.constants.hartree2kcalmol for energy in energies_forward ]\n",
    "backward_e = [energy * psi4.constants.hartree2kcalmol for energy in energies_backward]\n",
    "\n",
    "\n",
    "backward_e.reverse()\n",
    "\n",
    "forward_e = np.array(forward_e)-np.max(forward_e)\n",
    "backward_e = np.array(backward_e)-np.max(backward_e)"
   ]
  },
  {
   "cell_type": "code",
   "execution_count": 39,
   "metadata": {},
   "outputs": [],
   "source": [
    "energies = np.concatenate([backward_e[:-2],forward_e], axis=0)"
   ]
  },
  {
   "cell_type": "code",
   "execution_count": 40,
   "metadata": {},
   "outputs": [
    {
     "data": {
      "image/png": "[encoded data removed]",
      "text/plain": [
       "<Figure size 432x288 with 1 Axes>"
      ]
     },
     "metadata": {
      "needs_background": "light"
     },
     "output_type": "display_data"
    }
   ],
   "source": [
    "fig, ax =  plt.subplots(1)\n",
    "\n",
    "ax.plot(energies)\n",
    "ax.set_xlabel('IRC step')\n",
    "ax.set_ylabel('Pot Energy (kcal mol$^{-1}$)')\n",
    "\n",
    "\n",
    "plt.show()"
   ]
  },
  {
   "cell_type": "code",
   "execution_count": 21,
   "metadata": {},
   "outputs": [],
   "source": [
    "coordinates_backward.reverse()\n",
    "\n",
    "coordinates = coordinates_backward + coordinates_forward"
   ]
  },
  {
   "cell_type": "code",
   "execution_count": 22,
   "metadata": {},
   "outputs": [],
   "source": [
    "elements = ts.to_dict()['elem']\n",
    "traj = []\n",
    "for coords in coordinates:\n",
    "    coords = np.array(coords)\n",
    "    coords*= hartree2A \n",
    "    xyz =f\"{len(coords)}\\n\\n\"\n",
    "    for i in range(len(coords)):\n",
    "        xyz+=f\"{elements[i]} {coords[i][0]} {coords[i][1]} {coords[i][2]} \\n\"\n",
    "    traj.append(xyz)"
   ]
  },
  {
   "cell_type": "code",
   "execution_count": 23,
   "metadata": {},
   "outputs": [
    {
     "data": {
      "application/vnd.jupyter.widget-view+json": {
       "model_id": "af5c0a95c8874fb3a3c1a1cbbfb36f47",
       "version_major": 2,
       "version_minor": 0
      },
      "text/plain": [
       "interactive(children=(IntSlider(value=0, description='conf', max=172), Output()), _dom_classes=('widget-intera…"
      ]
     },
     "metadata": {},
     "output_type": "display_data"
    }
   ],
   "source": [
    "drawXYZGeomSlider(traj)"
   ]
  },
  {
   "cell_type": "code",
   "execution_count": 24,
   "metadata": {},
   "outputs": [],
   "source": [
    "def calculate_dihedral(a, b, c, d):\n",
    "    \"\"\"Calculates dihedral from cartesian coordinates\"\"\"\n",
    "    b0 = -1.0*(b - a)\n",
    "    b1 = c - b\n",
    "    b2 = d - c\n",
    "    # normalize b1\n",
    "    b1 /= np.linalg.norm(b1)\n",
    "    # v = projection of b0 onto plane perpendicular to b1\n",
    "    #   = b0 minus component that aligns with b1\n",
    "    # w = projection of b2 onto plane perpendicular to b1\n",
    "    #   = b2 minus component that aligns with b1\n",
    "    v = b0 - np.dot(b0, b1)*b1\n",
    "    w = b2 - np.dot(b2, b1)*b1\n",
    "    # angle between v and w in a plane is the torsion angle\n",
    "    # v and w may not be normalized but that's fine since tan is y/x\n",
    "    x = np.dot(v, w)\n",
    "    y = np.dot(np.cross(b1, v), w)\n",
    "    return np.degrees(np.arctan2(y, x))\n",
    "\n",
    "def calculate_angle(a,b,c):\n",
    "    ba = a - b\n",
    "    bc = c - b\n",
    "\n",
    "    cosine_angle = np.dot(ba, bc) / (np.linalg.norm(ba) * np.linalg.norm(bc))\n",
    "    angle = np.arccos(cosine_angle)\n",
    "    return np.degrees(angle)\n",
    "\n",
    "def calculate_bond(a,b):\n",
    "    ba = a - b\n",
    "    return np.linalg.norm(ba)"
   ]
  },
  {
   "cell_type": "markdown",
   "metadata": {},
   "source": [
    "```{admonition} Exercise\n",
    ":class: exercise\n",
    "How do the C-Cl and the two relevant C-O bond lengths change during\n",
    "    the trajectory? Does the C-C bond in the ring contract as the\n",
    "    epoxide is formed? Show a graph depicting the evolution of these\n",
    "    parameters as the reaction progresses. (Hit `2` to select bond\n",
    "    lengths, and use `Graphics` (*VMD Main*), `Labels` and `Graph`\n",
    "    (*Labels* Menu) to visualise the changes, just as you did in the PES\n",
    "    scan of butane.)\n",
    "```"
   ]
  },
  {
   "cell_type": "markdown",
   "metadata": {},
   "source": [
    "```{admonition} Exercise\n",
    ":class: exercise\n",
    "What is happening to the methyl group as the reaction proceeds? Find\n",
    "    a suitable parameter (angle, dihedral) to describe and characterise\n",
    "    possible changes you observe. (Hit `3` to select angles, or `4` for\n",
    "    dihedrals.)\n",
    "```"
   ]
  },
  {
   "cell_type": "markdown",
   "metadata": {},
   "source": [
    "```{admonition} Exercise\n",
    ":class: exercise\n",
    "Is the stereochemistry at the carbon at which the reaction takes\n",
    "    place retained?\n",
    "```"
   ]
  },
  {
   "cell_type": "markdown",
   "metadata": {},
   "source": [
    "```{admonition} Exercise\n",
    ":class: exercise\n",
    "Take a screenshot of the graph of the potential energy profile you\n",
    "    recorded. Make sure that the left half corresponds to the reactants,\n",
    "    and that the product state can be found to the right.\n",
    "```"
   ]
  },
  {
   "cell_type": "markdown",
   "metadata": {},
   "source": [
    "```{admonition} Exercise\n",
    ":class: exercise\n",
    "Why is the barrier for the epoxide formation so low? Will this be\n",
    "    the overall barrier for the reaction as depicted in section 8.1?\n",
    "```"
   ]
  },
  {
   "cell_type": "code",
   "execution_count": 25,
   "metadata": {},
   "outputs": [],
   "source": [
    "r = forward.to_arrays()[0] * hartree2A \n",
    "p = backward.to_arrays()[0] * hartree2A "
   ]
  },
  {
   "cell_type": "code",
   "execution_count": 27,
   "metadata": {},
   "outputs": [
    {
     "data": {
      "application/3dmoljs_load.v0": "<div id=\"3dmolviewer_16257322432490451\"  style=\"position: relative; width: 400px; height: 400px\">\n        <p id=\"3dmolwarning_16257322432490451\" style=\"background-color:#ffcccc;color:black\">You appear to be running in JupyterLab (or JavaScript failed to load for some other reason).  You need to install the 3dmol extension: <br>\n        <tt>jupyter labextension install jupyterlab_3dmol</tt></p>\n        </div>\n<script>\n\nvar loadScriptAsync = function(uri){\n  return new Promise((resolve, reject) => {\n    var tag = document.createElement('script');\n    tag.src = uri;\n    tag.async = true;\n    tag.onload = () => {\n      resolve();\n    };\n  var firstScriptTag = document.getElementsByTagName('script')[0];\n  firstScriptTag.parentNode.insertBefore(tag, firstScriptTag);\n});\n};\n\nif(typeof $3Dmolpromise === 'undefined') {\n$3Dmolpromise = null;\n  $3Dmolpromise = loadScriptAsync('https://3dmol.org/build/3Dmol.js');\n}\n\nvar viewer_16257322432490451 = null;\nvar warn = document.getElementById(\"3dmolwarning_16257322432490451\");\nif(warn) {\n    warn.parentNode.removeChild(warn);\n}\n$3Dmolpromise.then(function() {\nviewer_16257322432490451 = $3Dmol.createViewer($(\"#3dmolviewer_16257322432490451\"),{backgroundColor:\"white\"});\nviewer_16257322432490451.zoomTo();\n\tviewer_16257322432490451.addModel(\"11\\n\\n C    0.161277652442   -0.511659237977   -0.065756263639\\n C    0.161277652442   -0.511659237977    1.409959596277\\nCL    0.161277652442    1.675674177759   -0.829742424050\\n H    1.132438279891   -0.697673060564   -0.509095183799\\n C   -1.040792304165   -1.016986818226   -0.814824998096\\n O    0.358115777284   -1.869113056275    1.405395111665\\n H    0.973976046119    0.103377254213    1.848144294988\\n H   -0.802731568808   -0.160202392616    1.838575231274\\n H   -0.948171371421   -0.797953163311   -1.882592940287\\n H   -1.131686555465   -2.098706543170   -0.669893259669\\n H   -1.951363511575   -0.532540703580   -0.443136552538\\n\",\"xyz\");\n\tviewer_16257322432490451.addLabel(\"0\",{\"position\": {\"x\": 0.1711351429686292, \"y\": -0.3244544304223638, \"z\": -0.2010552509167166}, \"inFront\": true});\n\tviewer_16257322432490451.addLabel(\"1\",{\"position\": {\"x\": 0.1711351429686292, \"y\": -0.3244544304223638, \"z\": 1.3568367138163728}, \"inFront\": true});\n\tviewer_16257322432490451.addLabel(\"2\",{\"position\": {\"x\": 0.1711351429686292, \"y\": 1.4320988234130292, \"z\": -0.9261402698398438}, \"inFront\": true});\n\tviewer_16257322432490451.addLabel(\"3\",{\"position\": {\"x\": 1.1224083246697911, \"y\": -0.7273300666638466, \"z\": -0.5595495113069479}, \"inFront\": true});\n\tviewer_16257322432490451.addLabel(\"4\",{\"position\": {\"x\": -1.018143430355499, \"y\": -1.0691228882155894, \"z\": -0.8002439478041802}, \"inFront\": true});\n\tviewer_16257322432490451.addLabel(\"5\",{\"position\": {\"x\": 0.2984221453879006, \"y\": -1.59414100814867, \"z\": 1.7571086187047653}, \"inFront\": true});\n\tviewer_16257322432490451.addLabel(\"6\",{\"position\": {\"x\": 0.9864084236283656, \"y\": 0.38023183783617476, \"z\": 1.6827253311478743}, \"inFront\": true});\n\tviewer_16257322432490451.addLabel(\"7\",{\"position\": {\"x\": -0.7895331529497872, \"y\": 0.1885052542066036, \"z\": 1.6603873435846082}, \"inFront\": true});\n\tviewer_16257322432490451.addLabel(\"8\",{\"position\": {\"x\": -0.9584755852605336, \"y\": -1.1675380603770242, \"z\": -1.891212129272631}, \"inFront\": true});\n\tviewer_16257322432490451.addLabel(\"9\",{\"position\": {\"x\": -1.036893526025484, \"y\": -2.059468432945078, \"z\": -0.33196917071415905}, \"inFront\": true});\n\tviewer_16257322432490451.addLabel(\"10\",{\"position\": {\"x\": -1.9505198188942905, \"y\": -0.5479429125302718, \"z\": -0.5456867092357942}, \"inFront\": true});\n\tviewer_16257322432490451.setStyle({\"stick\": {}, \"sphere\": {\"scale\": 0.1}});\n\tviewer_16257322432490451.setStyle({\"model\": 0},{\"stick\": {\"colorscheme\": \"yellowCarbon\"}, \"sphere\": {\"scale\": 0.1}});\n\tviewer_16257322432490451.zoomTo();\nviewer_16257322432490451.render();\n});\n</script>",
      "text/html": [
       "<div id=\"3dmolviewer_16257322432490451\"  style=\"position: relative; width: 400px; height: 400px\">\n",
       "        <p id=\"3dmolwarning_16257322432490451\" style=\"background-color:#ffcccc;color:black\">You appear to be running in JupyterLab (or JavaScript failed to load for some other reason).  You need to install the 3dmol extension: <br>\n",
       "        <tt>jupyter labextension install jupyterlab_3dmol</tt></p>\n",
       "        </div>\n",
       "<script>\n",
       "\n",
       "var loadScriptAsync = function(uri){\n",
       "  return new Promise((resolve, reject) => {\n",
       "    var tag = document.createElement('script');\n",
       "    tag.src = uri;\n",
       "    tag.async = true;\n",
       "    tag.onload = () => {\n",
       "      resolve();\n",
       "    };\n",
       "  var firstScriptTag = document.getElementsByTagName('script')[0];\n",
       "  firstScriptTag.parentNode.insertBefore(tag, firstScriptTag);\n",
       "});\n",
       "};\n",
       "\n",
       "if(typeof $3Dmolpromise === 'undefined') {\n",
       "$3Dmolpromise = null;\n",
       "  $3Dmolpromise = loadScriptAsync('https://3dmol.org/build/3Dmol.js');\n",
       "}\n",
       "\n",
       "var viewer_16257322432490451 = null;\n",
       "var warn = document.getElementById(\"3dmolwarning_16257322432490451\");\n",
       "if(warn) {\n",
       "    warn.parentNode.removeChild(warn);\n",
       "}\n",
       "$3Dmolpromise.then(function() {\n",
       "viewer_16257322432490451 = $3Dmol.createViewer($(\"#3dmolviewer_16257322432490451\"),{backgroundColor:\"white\"});\n",
       "viewer_16257322432490451.zoomTo();\n",
       "\tviewer_16257322432490451.addModel(\"11\\n\\n C    0.161277652442   -0.511659237977   -0.065756263639\\n C    0.161277652442   -0.511659237977    1.409959596277\\nCL    0.161277652442    1.675674177759   -0.829742424050\\n H    1.132438279891   -0.697673060564   -0.509095183799\\n C   -1.040792304165   -1.016986818226   -0.814824998096\\n O    0.358115777284   -1.869113056275    1.405395111665\\n H    0.973976046119    0.103377254213    1.848144294988\\n H   -0.802731568808   -0.160202392616    1.838575231274\\n H   -0.948171371421   -0.797953163311   -1.882592940287\\n H   -1.131686555465   -2.098706543170   -0.669893259669\\n H   -1.951363511575   -0.532540703580   -0.443136552538\\n\",\"xyz\");\n",
       "\tviewer_16257322432490451.addLabel(\"0\",{\"position\": {\"x\": 0.1711351429686292, \"y\": -0.3244544304223638, \"z\": -0.2010552509167166}, \"inFront\": true});\n",
       "\tviewer_16257322432490451.addLabel(\"1\",{\"position\": {\"x\": 0.1711351429686292, \"y\": -0.3244544304223638, \"z\": 1.3568367138163728}, \"inFront\": true});\n",
       "\tviewer_16257322432490451.addLabel(\"2\",{\"position\": {\"x\": 0.1711351429686292, \"y\": 1.4320988234130292, \"z\": -0.9261402698398438}, \"inFront\": true});\n",
       "\tviewer_16257322432490451.addLabel(\"3\",{\"position\": {\"x\": 1.1224083246697911, \"y\": -0.7273300666638466, \"z\": -0.5595495113069479}, \"inFront\": true});\n",
       "\tviewer_16257322432490451.addLabel(\"4\",{\"position\": {\"x\": -1.018143430355499, \"y\": -1.0691228882155894, \"z\": -0.8002439478041802}, \"inFront\": true});\n",
       "\tviewer_16257322432490451.addLabel(\"5\",{\"position\": {\"x\": 0.2984221453879006, \"y\": -1.59414100814867, \"z\": 1.7571086187047653}, \"inFront\": true});\n",
       "\tviewer_16257322432490451.addLabel(\"6\",{\"position\": {\"x\": 0.9864084236283656, \"y\": 0.38023183783617476, \"z\": 1.6827253311478743}, \"inFront\": true});\n",
       "\tviewer_16257322432490451.addLabel(\"7\",{\"position\": {\"x\": -0.7895331529497872, \"y\": 0.1885052542066036, \"z\": 1.6603873435846082}, \"inFront\": true});\n",
       "\tviewer_16257322432490451.addLabel(\"8\",{\"position\": {\"x\": -0.9584755852605336, \"y\": -1.1675380603770242, \"z\": -1.891212129272631}, \"inFront\": true});\n",
       "\tviewer_16257322432490451.addLabel(\"9\",{\"position\": {\"x\": -1.036893526025484, \"y\": -2.059468432945078, \"z\": -0.33196917071415905}, \"inFront\": true});\n",
       "\tviewer_16257322432490451.addLabel(\"10\",{\"position\": {\"x\": -1.9505198188942905, \"y\": -0.5479429125302718, \"z\": -0.5456867092357942}, \"inFront\": true});\n",
       "\tviewer_16257322432490451.setStyle({\"stick\": {}, \"sphere\": {\"scale\": 0.1}});\n",
       "\tviewer_16257322432490451.setStyle({\"model\": 0},{\"stick\": {\"colorscheme\": \"yellowCarbon\"}, \"sphere\": {\"scale\": 0.1}});\n",
       "\tviewer_16257322432490451.zoomTo();\n",
       "viewer_16257322432490451.render();\n",
       "});\n",
       "</script>"
      ]
     },
     "metadata": {},
     "output_type": "display_data"
    }
   ],
   "source": [
    "view = py3Dmol.view(width=400, height=400)\n",
    "view.addModel(ts.save_string_xyz_file(), \"xyz\")\n",
    "\n",
    "for i,(x,y,z) in enumerate(p):\n",
    "    view.addLabel(str(i),{'position':{'x':x,'y':y,'z':z},'inFront':True})\n",
    "view.setStyle({'stick':{}, 'sphere':{'scale':0.1}})\n",
    "view.setStyle({'model':0},{'stick':{'colorscheme':'yellowCarbon'}, 'sphere':{'scale':0.1}})\n",
    "view.zoomTo()\n",
    "view.show()"
   ]
  },
  {
   "cell_type": "code",
   "execution_count": 28,
   "metadata": {},
   "outputs": [
    {
     "data": {
      "text/plain": [
       "1.3373569398205571"
      ]
     },
     "execution_count": 28,
     "metadata": {},
     "output_type": "execute_result"
    }
   ],
   "source": [
    "calculate_bond(p[0],p[5])\n",
    "calculate_bond(p[1],p[5])"
   ]
  },
  {
   "cell_type": "code",
   "execution_count": 29,
   "metadata": {},
   "outputs": [
    {
     "data": {
      "text/plain": [
       "107.53543298422461"
      ]
     },
     "execution_count": 29,
     "metadata": {},
     "output_type": "execute_result"
    }
   ],
   "source": [
    "calculate_angle(p[2],p[0], p[4])"
   ]
  },
  {
   "cell_type": "code",
   "execution_count": 30,
   "metadata": {},
   "outputs": [
    {
     "data": {
      "text/plain": [
       "-59.70820468514368"
      ]
     },
     "execution_count": 30,
     "metadata": {},
     "output_type": "execute_result"
    }
   ],
   "source": [
    "calculate_dihedral(p[10],p[4],p[0], p[2])"
   ]
  },
  {
   "cell_type": "code",
   "execution_count": null,
   "metadata": {},
   "outputs": [],
   "source": []
  }
 ],
 "metadata": {
  "interpreter": {
   "hash": "c7b89d09d12530702dc745c9ae3bd6ae626ab0e985c275b51bdc18c0ba6db8ab"
  },
  "kernelspec": {
   "display_name": "Python 3",
   "language": "python",
   "name": "python3"
  },
  "language_info": {
   "codemirror_mode": {
    "name": "ipython",
    "version": 3
   },
   "file_extension": ".py",
   "mimetype": "text/x-python",
   "name": "python",
   "nbconvert_exporter": "python",
   "pygments_lexer": "ipython3",
   "version": "3.7.10"
  }
 },
 "nbformat": 4,
 "nbformat_minor": 2
}
