{
 "cells": [
  {
   "cell_type": "markdown",
   "metadata": {},
   "source": [
    "# Review of Linear Algebra Basics\n",
    "To use quantum mechanics, you should be familiar with linear algebra operations. The following exercises help you to review some basic operations with vectors and matrices."
   ]
  },
  {
   "cell_type": "markdown",
   "metadata": {},
   "source": [
    ":::{admonition} Exercise 1\n",
    ":class: exercise\n",
    "\n",
    " Calculate the vector product $\\mathbf{c}=\\mathbf{a}\\times\\mathbf{b}$\n",
    "    with \n",
    "\n",
    "   $$\n",
    "    \\begin{aligned}\n",
    "     \\mathbf{a} = \\left(\\begin{matrix}\n",
    "     2 \\\\ 6 \\\\ 4\n",
    "     \\end{matrix}\\right)\n",
    "     \\quad\n",
    "     \\mathbf{b} = \\left(\\begin{matrix}\n",
    "     5 \\\\ 1 \\\\ 7\n",
    "     \\end{matrix}\\right)\n",
    "     \\end{aligned}\n",
    "    $$\n",
    "\n",
    "  and, for the same $\\mathbf{a},\\mathbf{b}$, the scalar product\n",
    "    \n",
    "   $$\n",
    "    \\begin{aligned}\n",
    "     d = \\mathbf{a}\\cdot \\mathbf{b}\n",
    "     \\end{aligned}\n",
    "   $$\n",
    ":::"
   ]
  },
  {
   "cell_type": "code",
   "execution_count": 3,
   "metadata": {},
   "outputs": [
    {
     "data": {
      "text/plain": [
       "array([ 38,   6, -28])"
      ]
     },
     "execution_count": 3,
     "metadata": {},
     "output_type": "execute_result"
    }
   ],
   "source": [
    "import numpy as np\n",
    "\n",
    "a = np.array([2, 6, 4])\n",
    "b = np.array([5, 1, 7])\n",
    "np.cross(a, b)"
   ]
  },
  {
   "cell_type": "markdown",
   "metadata": {},
   "source": [
    ":::{admonition} Exercise 2\n",
    ":class: exercise\n",
    " Evaluate the matrix product $\\mathbf{C} = \\mathbf{A}\\mathbf{B}$.\n",
    "\n",
    "   $$\n",
    "    \\mathbf{A} =\\begin{aligned}\n",
    "     \\left(\\begin{matrix}\n",
    "     6 & 8 &2 \\\\ 9 & 1 & 5 \\\\ 7 & 4 & 3\n",
    "     \\end{matrix}\\right),\\quad\\mathbf{B}=\n",
    "      \\left(\\begin{matrix}\n",
    "     9 & 6 & 7 \\\\ 5 & 4 & 4 \\\\  3 & 2 & 8\n",
    "     \\end{matrix}\\right).\n",
    "     \\end{aligned}\n",
    "    $$\n",
    "\n",
    ":::"
   ]
  },
  {
   "cell_type": "code",
   "execution_count": 2,
   "metadata": {},
   "outputs": [
    {
     "name": "stdout",
     "output_type": "stream",
     "text": [
      "[[100  72  90]\n",
      " [101  68 107]\n",
      " [ 92  64  89]]\n"
     ]
    }
   ],
   "source": [
    "\n",
    "A = np.array([[6, 8, 2],\n",
    "              [9, 1, 5],\n",
    "              [7, 4, 3]])\n",
    "\n",
    "B = np.array([[9, 6, 7],\n",
    "              [5, 4, 4],\n",
    "              [3, 2, 8]])\n",
    "\n",
    "C = np.dot(A, B)\n",
    "print(C)"
   ]
  },
  {
   "cell_type": "markdown",
   "metadata": {},
   "source": [
    ":::{admonition} Exercise 3\n",
    ":class: exercise\n",
    "Evaluate the determinant for the matrix $\\mathbf{A}$.\n",
    "    \n",
    " $$\n",
    "    \\mathbf{A}=\\begin{aligned}\n",
    "     \\left(\\begin{matrix}\n",
    "     1 & 1 & 2 \\\\ 1 & 0 & 2 \\\\ 2 & 2 & 3\n",
    "     \\end{matrix}\\right)\n",
    "     \\end{aligned}\n",
    " $$\n",
    "\n",
    ":::"
   ]
  },
  {
   "cell_type": "code",
   "execution_count": 5,
   "metadata": {},
   "outputs": [
    {
     "data": {
      "text/plain": [
       "np.float64(1.0)"
      ]
     },
     "execution_count": 5,
     "metadata": {},
     "output_type": "execute_result"
    }
   ],
   "source": [
    "A = np.array([[1, 1, 2],\n",
    "              [1, 0, 2],\n",
    "              [2, 2, 3]])\n",
    "\n",
    "np.linalg.det(A)"
   ]
  },
  {
   "cell_type": "markdown",
   "metadata": {},
   "source": [
    ":::{admonition} Exercise 4\n",
    ":class: exercise\n",
    " Does the exponent of an operator always satisfy the relation\n",
    "    $e^{\\hat{A}+\\hat{B}} = e^{\\hat{A}}e^{\\hat{B}}$ ? Start from the\n",
    "    definition of the matrix exponential.\n",
    ":::"
   ]
  },
  {
   "cell_type": "code",
   "execution_count": null,
   "metadata": {},
   "outputs": [],
   "source": []
  }
 ],
 "metadata": {
  "kernelspec": {
   "display_name": "Python (iesm)",
   "language": "python",
   "name": "iesm"
  },
  "language_info": {
   "codemirror_mode": {
    "name": "ipython",
    "version": 3
   },
   "file_extension": ".py",
   "mimetype": "text/x-python",
   "name": "python",
   "nbconvert_exporter": "python",
   "pygments_lexer": "ipython3",
   "version": "3.11.10"
  }
 },
 "nbformat": 4,
 "nbformat_minor": 4
}
